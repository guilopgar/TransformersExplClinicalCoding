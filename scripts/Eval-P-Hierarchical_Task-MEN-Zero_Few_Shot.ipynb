{
 "cells": [
  {
   "cell_type": "code",
   "execution_count": 1,
   "metadata": {},
   "outputs": [],
   "source": [
    "utils_path = \"../utils/\"\n",
    "corpus_path = \"../datasets/final_dataset_v4_to_publish/\"\n",
    "test_gs_path = corpus_path + \"test/testX.tsv\""
   ]
  },
  {
   "cell_type": "code",
   "execution_count": 2,
   "metadata": {},
   "outputs": [
    {
     "name": "stderr",
     "output_type": "stream",
     "text": [
      "2022-12-23 11:17:10.533101: I tensorflow/stream_executor/platform/default/dso_loader.cc:53] Successfully opened dynamic library libcudart.so.11.0\n",
      "/home/comun/guillermo/NLP/scripts/../utils/nlp_utils.py:4848: FutureWarning: Columnar iteration over characters will be deprecated in future releases.\n"
     ]
    }
   ],
   "source": [
    "import tensorflow as tf\n",
    "\n",
    "# Auxiliary components\n",
    "import sys\n",
    "sys.path.insert(0, utils_path)\n",
    "from nlp_utils import *\n",
    "\n",
    "RES_DIR = \"../results/CodiEsp/final_exec_rev/\"\n",
    "\n",
    "TYPE_ANN = \"PROCEDIMIENTO\"\n",
    "TYPE_TASK = TYPE_ANN[0].lower()\n",
    "\n",
    "round_n = 3\n",
    "\n",
    "# GS data\n",
    "df_test_gs = format_codiesp_x_gs(test_gs_path)\n",
    "df_test_gs = df_test_gs[df_test_gs['label_gs'] == TYPE_ANN]\n",
    "\n",
    "codes_d_path = corpus_path + \"codiesp_codes/codiesp-\" + TYPE_TASK.upper() + \"_codes.tsv\"\n",
    "valid_codes = set(pd.read_csv(codes_d_path, sep='\\t', header=None, \n",
    "                                  usecols=[0])[0].tolist())\n",
    "valid_codes = set([x.lower() for x in valid_codes])"
   ]
  },
  {
   "cell_type": "code",
   "execution_count": 3,
   "metadata": {},
   "outputs": [],
   "source": [
    "ss_corpus_path = \"../datasets/CodiEsp-SSplit-text/\""
   ]
  },
  {
   "cell_type": "markdown",
   "metadata": {},
   "source": [
    "# Load data"
   ]
  },
  {
   "cell_type": "code",
   "execution_count": 4,
   "metadata": {},
   "outputs": [],
   "source": [
    "train_path = corpus_path + \"train/text_files/\"\n",
    "train_files = [f for f in os.listdir(train_path) if os.path.isfile(train_path + f) and f.split('.')[-1] == \"txt\"]\n",
    "train_data = load_text_files(train_files, train_path)\n",
    "df_text_train = pd.DataFrame({'doc_id': [s.split('.txt')[0] for s in train_files], 'raw_text': train_data})"
   ]
  },
  {
   "cell_type": "code",
   "execution_count": 5,
   "metadata": {},
   "outputs": [],
   "source": [
    "dev_path = corpus_path + \"dev/text_files/\"\n",
    "dev_files = [f for f in os.listdir(dev_path) if os.path.isfile(dev_path + f) and f.split('.')[-1] == \"txt\"]\n",
    "dev_data = load_text_files(dev_files, dev_path)\n",
    "df_text_dev = pd.DataFrame({'doc_id': [s.split('.txt')[0] for s in dev_files], 'raw_text': dev_data})"
   ]
  },
  {
   "cell_type": "code",
   "execution_count": 6,
   "metadata": {},
   "outputs": [],
   "source": [
    "test_path = corpus_path + \"test/text_files/\"\n",
    "test_files = [f for f in os.listdir(test_path) if os.path.isfile(test_path + f) and f.split('.')[-1] == 'txt']\n",
    "test_data = load_text_files(test_files, test_path)\n",
    "df_text_test = pd.DataFrame({'doc_id': [s.split('.txt')[0] for s in test_files], 'raw_text': test_data})"
   ]
  },
  {
   "cell_type": "code",
   "execution_count": 7,
   "metadata": {},
   "outputs": [],
   "source": [
    "df_codes_train_ner = pd.read_table(corpus_path + \"train/trainX.tsv\", sep='\\t', header=None)\n",
    "df_codes_train_ner.columns = [\"doc_id\", \"type\", \"code\", \"word\", \"location\"]\n",
    "df_codes_train_ner = df_codes_train_ner[~df_codes_train_ner[['doc_id', 'type', 'location']].duplicated(keep='first')]\n",
    "df_codes_train_ner['disc'] = df_codes_train_ner['location'].apply(lambda x: ';' in x)"
   ]
  },
  {
   "cell_type": "markdown",
   "metadata": {},
   "source": [
    "Select one type of annotations:"
   ]
  },
  {
   "cell_type": "code",
   "execution_count": 8,
   "metadata": {},
   "outputs": [],
   "source": [
    "df_codes_train_ner = df_codes_train_ner[df_codes_train_ner['type'] == TYPE_ANN]"
   ]
  },
  {
   "cell_type": "markdown",
   "metadata": {},
   "source": [
    "Split discontinuous annotations:"
   ]
  },
  {
   "cell_type": "code",
   "execution_count": 9,
   "metadata": {},
   "outputs": [],
   "source": [
    "df_codes_train_ner_final = process_labels_norm_prueba(df_ann=df_codes_train_ner[[\"doc_id\", \"type\", \"code\", \"word\", \"location\"]])"
   ]
  },
  {
   "cell_type": "markdown",
   "metadata": {},
   "source": [
    "Remove annotations of zero length:"
   ]
  },
  {
   "cell_type": "code",
   "execution_count": 10,
   "metadata": {},
   "outputs": [],
   "source": [
    "df_codes_train_ner_final['length'] = df_codes_train_ner_final.apply(lambda x: x['end'] - x['start'], axis=1)\n",
    "df_codes_train_ner_final = df_codes_train_ner_final[df_codes_train_ner_final['length'] > 0]"
   ]
  },
  {
   "cell_type": "markdown",
   "metadata": {},
   "source": [
    "Separate continuous and discontinuous annotations:"
   ]
  },
  {
   "cell_type": "code",
   "execution_count": 11,
   "metadata": {},
   "outputs": [],
   "source": [
    "# Continiuous\n",
    "df_codes_train_ner_final_cont = df_codes_train_ner_final[df_codes_train_ner_final['disc'] == 0].copy()\n",
    "df_codes_train_ner_final_cont['disc'] = df_codes_train_ner_final_cont['disc'].astype(bool)"
   ]
  },
  {
   "cell_type": "code",
   "execution_count": 12,
   "metadata": {},
   "outputs": [],
   "source": [
    "# Discontinuous\n",
    "df_codes_train_ner_final_disc = restore_disc_ann(df_ann=df_codes_train_ner[df_codes_train_ner['disc']], \n",
    "                    df_ann_final=df_codes_train_ner_final[df_codes_train_ner_final['disc'] == 1])"
   ]
  },
  {
   "cell_type": "code",
   "execution_count": 13,
   "metadata": {},
   "outputs": [],
   "source": [
    "df_codes_train_ner_final_disc['start'] = df_codes_train_ner_final_disc['location'].apply(lambda x: int(x.split(' ')[0]))\n",
    "df_codes_train_ner_final_disc['end'] = df_codes_train_ner_final_disc['location'].apply(lambda x: int(x.split(' ')[-1]))"
   ]
  },
  {
   "cell_type": "markdown",
   "metadata": {},
   "source": [
    "Concatenate continuous and discontinuous annotations:"
   ]
  },
  {
   "cell_type": "code",
   "execution_count": 14,
   "metadata": {},
   "outputs": [],
   "source": [
    "# Concat\n",
    "cols_concat = ['doc_id', 'type', 'code', 'word', 'location', 'start', 'end', 'disc']\n",
    "df_codes_train_ner_final = pd.concat([df_codes_train_ner_final_cont[cols_concat], \n",
    "                                      df_codes_train_ner_final_disc[cols_concat]])"
   ]
  },
  {
   "cell_type": "markdown",
   "metadata": {},
   "source": [
    "Now, we remove the right-to-left (text wise) discontinuous annotations:"
   ]
  },
  {
   "cell_type": "code",
   "execution_count": 15,
   "metadata": {},
   "outputs": [],
   "source": [
    "df_codes_train_ner_final['direction'] = df_codes_train_ner_final.apply(check_ann_left_right_direction, axis=1)"
   ]
  },
  {
   "cell_type": "code",
   "execution_count": 16,
   "metadata": {},
   "outputs": [],
   "source": [
    "df_codes_train_ner_final = df_codes_train_ner_final[df_codes_train_ner_final['direction']]"
   ]
  },
  {
   "cell_type": "markdown",
   "metadata": {},
   "source": [
    "We only select the annotations fully contained in a single sentence:"
   ]
  },
  {
   "cell_type": "code",
   "execution_count": 17,
   "metadata": {},
   "outputs": [],
   "source": [
    "# Sentence-Split data\n",
    "ss_sub_corpus_path = ss_corpus_path + \"train/\"\n",
    "ss_files = [f for f in os.listdir(ss_sub_corpus_path) if os.path.isfile(ss_sub_corpus_path + f)]\n",
    "ss_dict_train = load_ss_files(ss_files, ss_sub_corpus_path)"
   ]
  },
  {
   "cell_type": "code",
   "execution_count": 18,
   "metadata": {},
   "outputs": [],
   "source": [
    "df_mult_sent_train, df_one_sent_train, df_no_sent_train = check_ann_span_sent(df_ann=df_codes_train_ner_final, \n",
    "                                                                             ss_dict=ss_dict_train)"
   ]
  },
  {
   "cell_type": "code",
   "execution_count": 19,
   "metadata": {},
   "outputs": [],
   "source": [
    "df_codes_train_ner_final = df_one_sent_train.copy()"
   ]
  },
  {
   "cell_type": "code",
   "execution_count": 20,
   "metadata": {},
   "outputs": [
    {
     "name": "stdout",
     "output_type": "stream",
     "text": [
      "False    1205\n",
      "True      355\n",
      "Name: disc, dtype: int64\n"
     ]
    }
   ],
   "source": [
    "print(df_codes_train_ner_final.disc.value_counts())"
   ]
  },
  {
   "cell_type": "code",
   "execution_count": 21,
   "metadata": {},
   "outputs": [],
   "source": [
    "df_codes_train_ner_final.sort_values(['doc_id', 'start', 'end'], inplace=True)"
   ]
  },
  {
   "cell_type": "code",
   "execution_count": 22,
   "metadata": {},
   "outputs": [],
   "source": [
    "# Code splitting"
   ]
  },
  {
   "cell_type": "code",
   "execution_count": 23,
   "metadata": {},
   "outputs": [],
   "source": [
    "if TYPE_TASK == 'd':\n",
    "    df_codes_train_ner_final[\"code_pre\"] = df_codes_train_ner_final[\"code\"].apply(lambda x: x.split('.')[0])\n",
    "    df_codes_train_ner_final[\"code_suf\"] = df_codes_train_ner_final[\"code\"].apply(lambda x: None if not '.' in x else x.split('.')[1])\n",
    "else:\n",
    "    df_codes_train_ner_final[\"code_pre\"] = df_codes_train_ner_final[\"code\"].apply(lambda x: x[:4])\n",
    "    df_codes_train_ner_final[\"code_suf\"] = df_codes_train_ner_final[\"code\"].apply(lambda x: None if len(x) < 7 else x[4:7])"
   ]
  },
  {
   "cell_type": "code",
   "execution_count": 24,
   "metadata": {},
   "outputs": [],
   "source": [
    "df_codes_dev_ner = pd.read_table(corpus_path + \"dev/devX.tsv\", sep='\\t', header=None)\n",
    "df_codes_dev_ner.columns = [\"doc_id\", \"type\", \"code\", \"word\", \"location\"]\n",
    "df_codes_dev_ner = df_codes_dev_ner[~df_codes_dev_ner[['doc_id', 'type', 'location']].duplicated(keep='first')]\n",
    "df_codes_dev_ner['disc'] = df_codes_dev_ner['location'].apply(lambda x: ';' in x)"
   ]
  },
  {
   "cell_type": "markdown",
   "metadata": {},
   "source": [
    "Select one type of annotations:"
   ]
  },
  {
   "cell_type": "code",
   "execution_count": 25,
   "metadata": {},
   "outputs": [],
   "source": [
    "df_codes_dev_ner = df_codes_dev_ner[df_codes_dev_ner['type'] == TYPE_ANN]"
   ]
  },
  {
   "cell_type": "markdown",
   "metadata": {},
   "source": [
    "Split discontinuous annotations:"
   ]
  },
  {
   "cell_type": "code",
   "execution_count": 26,
   "metadata": {},
   "outputs": [],
   "source": [
    "df_codes_dev_ner_final = process_labels_norm_prueba(df_ann=df_codes_dev_ner[[\"doc_id\", \"type\", \"code\", \"word\", \"location\"]])"
   ]
  },
  {
   "cell_type": "markdown",
   "metadata": {},
   "source": [
    "Remove annotations of zero length:"
   ]
  },
  {
   "cell_type": "code",
   "execution_count": 27,
   "metadata": {},
   "outputs": [],
   "source": [
    "df_codes_dev_ner_final['length'] = df_codes_dev_ner_final.apply(lambda x: x['end'] - x['start'], axis=1)\n",
    "df_codes_dev_ner_final = df_codes_dev_ner_final[df_codes_dev_ner_final['length'] > 0]"
   ]
  },
  {
   "cell_type": "markdown",
   "metadata": {},
   "source": [
    "Separate continuous and discontinuous annotations:"
   ]
  },
  {
   "cell_type": "code",
   "execution_count": 28,
   "metadata": {},
   "outputs": [],
   "source": [
    "# Continiuous\n",
    "df_codes_dev_ner_final_cont = df_codes_dev_ner_final[df_codes_dev_ner_final['disc'] == 0].copy()\n",
    "df_codes_dev_ner_final_cont['disc'] = df_codes_dev_ner_final_cont['disc'].astype(bool)"
   ]
  },
  {
   "cell_type": "code",
   "execution_count": 29,
   "metadata": {},
   "outputs": [],
   "source": [
    "# Discontinuous\n",
    "df_codes_dev_ner_final_disc = restore_disc_ann(df_ann=df_codes_dev_ner[df_codes_dev_ner['disc']], \n",
    "                    df_ann_final=df_codes_dev_ner_final[df_codes_dev_ner_final['disc'] == 1])"
   ]
  },
  {
   "cell_type": "code",
   "execution_count": 30,
   "metadata": {},
   "outputs": [],
   "source": [
    "df_codes_dev_ner_final_disc['start'] = df_codes_dev_ner_final_disc['location'].apply(lambda x: int(x.split(' ')[0]))\n",
    "df_codes_dev_ner_final_disc['end'] = df_codes_dev_ner_final_disc['location'].apply(lambda x: int(x.split(' ')[-1]))"
   ]
  },
  {
   "cell_type": "markdown",
   "metadata": {},
   "source": [
    "Concatenate continuous and discontinuous annotations:"
   ]
  },
  {
   "cell_type": "code",
   "execution_count": 31,
   "metadata": {},
   "outputs": [],
   "source": [
    "# Concat\n",
    "cols_concat = ['doc_id', 'type', 'code', 'word', 'location', 'start', 'end', 'disc']\n",
    "df_codes_dev_ner_final = pd.concat([df_codes_dev_ner_final_cont[cols_concat], \n",
    "                                      df_codes_dev_ner_final_disc[cols_concat]])"
   ]
  },
  {
   "cell_type": "markdown",
   "metadata": {},
   "source": [
    "Now, we remove the right-to-left (text wise) discontinuous annotations:"
   ]
  },
  {
   "cell_type": "code",
   "execution_count": 32,
   "metadata": {},
   "outputs": [],
   "source": [
    "df_codes_dev_ner_final['direction'] = df_codes_dev_ner_final.apply(check_ann_left_right_direction, axis=1)"
   ]
  },
  {
   "cell_type": "code",
   "execution_count": 33,
   "metadata": {},
   "outputs": [],
   "source": [
    "df_codes_dev_ner_final = df_codes_dev_ner_final[df_codes_dev_ner_final['direction']]"
   ]
  },
  {
   "cell_type": "markdown",
   "metadata": {},
   "source": [
    "We only select the annotations fully contained in a single sentence:"
   ]
  },
  {
   "cell_type": "code",
   "execution_count": 34,
   "metadata": {},
   "outputs": [],
   "source": [
    "# Sentence-Split data\n",
    "ss_sub_corpus_path = ss_corpus_path + \"dev/\"\n",
    "ss_files = [f for f in os.listdir(ss_sub_corpus_path) if os.path.isfile(ss_sub_corpus_path + f)]\n",
    "ss_dict_dev = load_ss_files(ss_files, ss_sub_corpus_path)"
   ]
  },
  {
   "cell_type": "code",
   "execution_count": 35,
   "metadata": {},
   "outputs": [],
   "source": [
    "df_mult_sent_dev, df_one_sent_dev, df_no_sent_dev = check_ann_span_sent(df_ann=df_codes_dev_ner_final, \n",
    "                                                                             ss_dict=ss_dict_dev)"
   ]
  },
  {
   "cell_type": "code",
   "execution_count": 36,
   "metadata": {},
   "outputs": [],
   "source": [
    "df_codes_dev_ner_final = df_one_sent_dev.copy()"
   ]
  },
  {
   "cell_type": "code",
   "execution_count": 37,
   "metadata": {},
   "outputs": [
    {
     "name": "stdout",
     "output_type": "stream",
     "text": [
      "False    575\n",
      "True     202\n",
      "Name: disc, dtype: int64\n"
     ]
    }
   ],
   "source": [
    "print(df_codes_dev_ner_final.disc.value_counts())"
   ]
  },
  {
   "cell_type": "code",
   "execution_count": 38,
   "metadata": {},
   "outputs": [],
   "source": [
    "df_codes_dev_ner_final.sort_values(['doc_id', 'start', 'end'], inplace=True)"
   ]
  },
  {
   "cell_type": "code",
   "execution_count": 39,
   "metadata": {},
   "outputs": [],
   "source": [
    "# Code splitting"
   ]
  },
  {
   "cell_type": "code",
   "execution_count": 40,
   "metadata": {},
   "outputs": [],
   "source": [
    "if TYPE_TASK == 'd':\n",
    "    df_codes_dev_ner_final[\"code_pre\"] = df_codes_dev_ner_final[\"code\"].apply(lambda x: x.split('.')[0])\n",
    "    df_codes_dev_ner_final[\"code_suf\"] = df_codes_dev_ner_final[\"code\"].apply(lambda x: None if not '.' in x else x.split('.')[1])\n",
    "else:\n",
    "    df_codes_dev_ner_final[\"code_pre\"] = df_codes_dev_ner_final[\"code\"].apply(lambda x: x[:4])\n",
    "    df_codes_dev_ner_final[\"code_suf\"] = df_codes_dev_ner_final[\"code\"].apply(lambda x: None if len(x) < 7 else x[4:7])"
   ]
  },
  {
   "cell_type": "code",
   "execution_count": 41,
   "metadata": {},
   "outputs": [],
   "source": [
    "train_dev_codes_pre = sorted(set(df_codes_dev_ner_final[\"code_pre\"].values).union(set(\n",
    "    df_codes_train_ner_final[\"code_pre\"].values\n",
    ")))"
   ]
  },
  {
   "cell_type": "code",
   "execution_count": 42,
   "metadata": {},
   "outputs": [
    {
     "data": {
      "text/plain": [
       "446"
      ]
     },
     "execution_count": 42,
     "metadata": {},
     "output_type": "execute_result"
    }
   ],
   "source": [
    "len(train_dev_codes_pre)"
   ]
  },
  {
   "cell_type": "code",
   "execution_count": 43,
   "metadata": {},
   "outputs": [],
   "source": [
    "train_dev_codes_suf = sorted(set(df_codes_dev_ner_final[df_codes_dev_ner_final['code_suf'].apply(lambda x: x is not None)][\"code_suf\"].values).union(set(df_codes_train_ner_final[df_codes_train_ner_final['code_suf'].apply(lambda x: x is not None)][\"code_suf\"].values))) "
   ]
  },
  {
   "cell_type": "code",
   "execution_count": 44,
   "metadata": {},
   "outputs": [
    {
     "data": {
      "text/plain": [
       "63"
      ]
     },
     "execution_count": 44,
     "metadata": {},
     "output_type": "execute_result"
    }
   ],
   "source": [
    "len(train_dev_codes_suf)"
   ]
  },
  {
   "cell_type": "code",
   "execution_count": 45,
   "metadata": {},
   "outputs": [],
   "source": [
    "subtask = 'norm'\n",
    "subtask_ann = subtask + '-iob_code_suf'\n",
    "\n",
    "CODE_SEP = '.' if TYPE_ANN == 'DIAGNOSTICO' else ''"
   ]
  },
  {
   "cell_type": "markdown",
   "metadata": {},
   "source": [
    "# Evaluation"
   ]
  },
  {
   "cell_type": "code",
   "execution_count": 46,
   "metadata": {},
   "outputs": [],
   "source": [
    "train_dev_codes = sorted(set(df_codes_dev_ner_final[\"code\"].values).union(set(\n",
    "    df_codes_train_ner_final[\"code\"].values\n",
    ")))"
   ]
  },
  {
   "cell_type": "code",
   "execution_count": 47,
   "metadata": {},
   "outputs": [
    {
     "data": {
      "text/plain": [
       "529"
      ]
     },
     "execution_count": 47,
     "metadata": {},
     "output_type": "execute_result"
    }
   ],
   "source": [
    "len(train_dev_codes)"
   ]
  },
  {
   "cell_type": "code",
   "execution_count": 48,
   "metadata": {},
   "outputs": [],
   "source": [
    "test_codes = sorted(set(df_test_gs[\"code\"]))"
   ]
  },
  {
   "cell_type": "code",
   "execution_count": 49,
   "metadata": {},
   "outputs": [
    {
     "data": {
      "text/plain": [
       "371"
      ]
     },
     "execution_count": 49,
     "metadata": {},
     "output_type": "execute_result"
    }
   ],
   "source": [
    "len(test_codes)"
   ]
  },
  {
   "cell_type": "code",
   "execution_count": 50,
   "metadata": {},
   "outputs": [],
   "source": [
    "res_stat = {}\n",
    "res_eval = {}"
   ]
  },
  {
   "cell_type": "markdown",
   "metadata": {},
   "source": [
    "## Zero-shot\n",
    "\n",
    "Considering codes that are only present in the test set."
   ]
  },
  {
   "cell_type": "code",
   "execution_count": 51,
   "metadata": {},
   "outputs": [],
   "source": [
    "zero_test_codes = set(test_codes) - set(train_dev_codes)"
   ]
  },
  {
   "cell_type": "code",
   "execution_count": 52,
   "metadata": {},
   "outputs": [
    {
     "data": {
      "text/plain": [
       "168"
      ]
     },
     "execution_count": 52,
     "metadata": {},
     "output_type": "execute_result"
    }
   ],
   "source": [
    "len(zero_test_codes)"
   ]
  },
  {
   "cell_type": "code",
   "execution_count": 53,
   "metadata": {},
   "outputs": [],
   "source": [
    "df_test_gs_zero = df_test_gs[df_test_gs.code.apply(\n",
    "    lambda x: x in zero_test_codes\n",
    ")].sort_values(by=[\"clinical_case\", \"pos_gs\"])"
   ]
  },
  {
   "cell_type": "code",
   "execution_count": 54,
   "metadata": {},
   "outputs": [
    {
     "data": {
      "text/plain": [
       "(219, 7)"
      ]
     },
     "execution_count": 54,
     "metadata": {},
     "output_type": "execute_result"
    }
   ],
   "source": [
    "df_test_gs_zero.shape"
   ]
  },
  {
   "cell_type": "code",
   "execution_count": 55,
   "metadata": {},
   "outputs": [],
   "source": [
    "arr_res_eval = []\n",
    "for i in range(1, 6):\n",
    "    df_pred_zero = pd.read_csv(RES_DIR + \"df_test_zero_preds_\" + TYPE_TASK + \"_hier_task_cls_mbert_galen_\" + str(i) + \".csv\", \n",
    "                    index_col=0, header=0, sep='\\t').sort_values(by=[\"clinical_case\", \"pos_pred\"])\n",
    "    code_pred_zero = [df_pred_zero[\"code\"].loc[i] if i in df_pred_zero.index else \"-\" for i in df_test_gs_zero.index] \n",
    "    assert len(code_pred_zero) == df_test_gs_zero.shape[0]\n",
    "    arr_res_eval.append(\n",
    "        (\n",
    "            pd.Series(df_test_gs_zero[\"code\"].values) == pd.Series(code_pred_zero)\n",
    "        ).value_counts(normalize=True)[True]\n",
    "    )\n",
    "dist_res_eval = pd.Series(arr_res_eval).describe()\n",
    "res_zero_mean_std = \".\" + str(round(dist_res_eval['mean'], round_n)).split('.')[-1] + \" ± \" + \\\n",
    "                    \".\" + str(round(dist_res_eval['std'], round_n)).split('.')[-1]\n",
    "res_zero_max = \".\" + str(round(dist_res_eval['max'], round_n)).split('.')[-1]"
   ]
  },
  {
   "cell_type": "markdown",
   "metadata": {},
   "source": [
    "### Additional analysis\n",
    "\n",
    "We only select the test samples annotated with code-pre and code-suf already seen in train-dev (otherwise the sample would be impossible to be correctly annotated):"
   ]
  },
  {
   "cell_type": "code",
   "execution_count": 56,
   "metadata": {},
   "outputs": [],
   "source": [
    "train_dev_codes_suf.append(None) # some codes do not have a suffix"
   ]
  },
  {
   "cell_type": "code",
   "execution_count": 57,
   "metadata": {},
   "outputs": [],
   "source": [
    "df_test_gs_zero_add = df_test_gs_zero.copy()"
   ]
  },
  {
   "cell_type": "code",
   "execution_count": 58,
   "metadata": {},
   "outputs": [],
   "source": [
    "if TYPE_TASK == 'd':\n",
    "    df_test_gs_zero_add[\"code_pre\"] = df_test_gs_zero_add.code.apply(\n",
    "        lambda x: x.split('.')[0] in train_dev_codes_pre\n",
    "    )\n",
    "    df_test_gs_zero_add[\"code_suf\"] = df_test_gs_zero_add.code.apply(\n",
    "        lambda x: (None if not '.' in x else x.split('.')[1]) in train_dev_codes_suf\n",
    "    )\n",
    "else:\n",
    "    df_test_gs_zero_add[\"code_pre\"] = df_test_gs_zero_add.code.apply(\n",
    "        lambda x: x[:4] in train_dev_codes_pre\n",
    "    )\n",
    "    df_test_gs_zero_add[\"code_suf\"] = df_test_gs_zero_add.code.apply(\n",
    "        lambda x: (None if len(x) < 7 else x[4:7]) in train_dev_codes_suf\n",
    "    )"
   ]
  },
  {
   "cell_type": "code",
   "execution_count": 59,
   "metadata": {},
   "outputs": [],
   "source": [
    "bool_filt_samples = df_test_gs_zero_add.apply(\n",
    "    lambda x: x[\"code_pre\"] == x[\"code_suf\"] == True, \n",
    "    axis=1\n",
    ").values"
   ]
  },
  {
   "cell_type": "code",
   "execution_count": 60,
   "metadata": {},
   "outputs": [],
   "source": [
    "df_test_gs_zero_add = df_test_gs_zero[bool_filt_samples]"
   ]
  },
  {
   "cell_type": "code",
   "execution_count": 61,
   "metadata": {},
   "outputs": [
    {
     "data": {
      "text/plain": [
       "(28, 7)"
      ]
     },
     "execution_count": 61,
     "metadata": {},
     "output_type": "execute_result"
    }
   ],
   "source": [
    "df_test_gs_zero_add.shape"
   ]
  },
  {
   "cell_type": "markdown",
   "metadata": {},
   "source": [
    "Finally, we only select the test samples considered by the model at the time of prediction, i.e. test annotations for which a CLS sample can be produced: "
   ]
  },
  {
   "cell_type": "code",
   "execution_count": 62,
   "metadata": {},
   "outputs": [],
   "source": [
    "ind_pred_zero_add = sorted(set(df_test_gs_zero_add.index.values).intersection(set(df_pred_zero.index)))"
   ]
  },
  {
   "cell_type": "code",
   "execution_count": 63,
   "metadata": {},
   "outputs": [],
   "source": [
    "df_test_gs_zero_add_pos = df_test_gs_zero_add.loc[ind_pred_zero_add]"
   ]
  },
  {
   "cell_type": "code",
   "execution_count": 64,
   "metadata": {},
   "outputs": [
    {
     "data": {
      "text/plain": [
       "(22, 7)"
      ]
     },
     "execution_count": 64,
     "metadata": {},
     "output_type": "execute_result"
    }
   ],
   "source": [
    "df_test_gs_zero_add_pos.shape"
   ]
  },
  {
   "cell_type": "code",
   "execution_count": 65,
   "metadata": {},
   "outputs": [],
   "source": [
    "arr_res_eval = []\n",
    "for i in range(1, 6):\n",
    "    df_pred_zero = pd.read_csv(RES_DIR + \"df_test_zero_preds_\" + TYPE_TASK + \"_hier_task_cls_mbert_galen_\" + str(i) + \".csv\", \n",
    "                    index_col=0, header=0, sep='\\t').sort_values(by=[\"clinical_case\", \"pos_pred\"])\n",
    "    code_pred_zero_add_pos = [df_pred_zero[\"code\"].loc[i] if i in df_pred_zero.index else \"-\" for i in df_test_gs_zero_add_pos.index] \n",
    "    assert len(code_pred_zero_add_pos) == df_test_gs_zero_add_pos.shape[0]\n",
    "    arr_res_eval.append(\n",
    "        (\n",
    "            pd.Series(df_test_gs_zero_add_pos[\"code\"].values) == pd.Series(code_pred_zero_add_pos)\n",
    "        ).value_counts(normalize=True)[True]\n",
    "    )\n",
    "dist_res_eval = pd.Series(arr_res_eval).describe()\n",
    "res_zero_add_pos_mean_std = \".\" + str(round(dist_res_eval['mean'], round_n)).split('.')[-1] + \" ± \" + \\\n",
    "                    \".\" + str(round(dist_res_eval['std'], round_n)).split('.')[-1]\n",
    "res_zero_add_pos_max = \".\" + str(round(dist_res_eval['max'], round_n)).split('.')[-1]"
   ]
  },
  {
   "cell_type": "code",
   "execution_count": 66,
   "metadata": {},
   "outputs": [],
   "source": [
    "res_eval[\"Zero-shot\"] = {\n",
    "    \"All acc avg\": res_zero_mean_std, \n",
    "    \"All acc max\": res_zero_max, \n",
    "    \"Pos acc avg\": res_zero_add_pos_mean_std,\n",
    "    \"Pos acc max\": res_zero_add_pos_max\n",
    "}"
   ]
  },
  {
   "cell_type": "code",
   "execution_count": 67,
   "metadata": {},
   "outputs": [],
   "source": [
    "res_stat[\"Zero-shot\"] = {\n",
    "    \"All codes\": len(set(df_test_gs_zero.code)), \"All ment\": df_test_gs_zero.shape[0], \n",
    "    \"Pos codes\": len(set(df_test_gs_zero_add_pos.code)), \"Pos ment\": df_test_gs_zero_add_pos.shape[0]\n",
    "}"
   ]
  },
  {
   "cell_type": "markdown",
   "metadata": {},
   "source": [
    "## Few-shots\n",
    "\n",
    "Considering codes with absolute freq <= 5 in the train-dev set."
   ]
  },
  {
   "cell_type": "code",
   "execution_count": 68,
   "metadata": {},
   "outputs": [],
   "source": [
    "dist_train_dev_codes = pd.concat((\n",
    "    df_codes_train_ner_final.code, \n",
    "    df_codes_dev_ner_final.code\n",
    ")).value_counts()"
   ]
  },
  {
   "cell_type": "code",
   "execution_count": 69,
   "metadata": {},
   "outputs": [],
   "source": [
    "few_train_dev_codes = sorted(set(\n",
    "    dist_train_dev_codes[dist_train_dev_codes <= 5].index.values\n",
    "))"
   ]
  },
  {
   "cell_type": "code",
   "execution_count": 70,
   "metadata": {},
   "outputs": [],
   "source": [
    "few_codes = set(few_train_dev_codes).union(set(zero_test_codes))"
   ]
  },
  {
   "cell_type": "code",
   "execution_count": 71,
   "metadata": {},
   "outputs": [
    {
     "data": {
      "text/plain": [
       "616"
      ]
     },
     "execution_count": 71,
     "metadata": {},
     "output_type": "execute_result"
    }
   ],
   "source": [
    "len(few_codes)"
   ]
  },
  {
   "cell_type": "code",
   "execution_count": 72,
   "metadata": {},
   "outputs": [],
   "source": [
    "df_test_gs_few = df_test_gs[df_test_gs.code.apply(\n",
    "    lambda x: x in few_codes\n",
    ")].sort_values(by=[\"clinical_case\", \"start_pos_gs\", \"end_pos_gs\"])"
   ]
  },
  {
   "cell_type": "code",
   "execution_count": 73,
   "metadata": {},
   "outputs": [
    {
     "data": {
      "text/plain": [
       "(488, 7)"
      ]
     },
     "execution_count": 73,
     "metadata": {},
     "output_type": "execute_result"
    }
   ],
   "source": [
    "df_test_gs_few.shape"
   ]
  },
  {
   "cell_type": "code",
   "execution_count": 74,
   "metadata": {},
   "outputs": [],
   "source": [
    "arr_res_eval = []\n",
    "for i in range(1, 6):\n",
    "    df_pred_few = pd.read_csv(RES_DIR + \"df_test_few_preds_\" + TYPE_TASK + \"_hier_task_cls_mbert_galen_\" + str(i) + \".csv\", \n",
    "                    index_col=0, header=0, sep='\\t').sort_values(by=[\"clinical_case\", \"pos_pred\"])\n",
    "    code_pred_few = [df_pred_few[\"code\"].loc[i] if i in df_pred_few.index else \"-\" for i in df_test_gs_few.index] \n",
    "    assert len(code_pred_few) == df_test_gs_few.shape[0]\n",
    "    arr_res_eval.append(\n",
    "        (\n",
    "            pd.Series(df_test_gs_few[\"code\"].values) == pd.Series(code_pred_few)\n",
    "        ).value_counts(normalize=True)[True]\n",
    "    )\n",
    "dist_res_eval = pd.Series(arr_res_eval).describe()\n",
    "res_few_mean_std = \".\" + str(round(dist_res_eval['mean'], round_n)).split('.')[-1] + \" ± \" + \\\n",
    "                    \".\" + str(round(dist_res_eval['std'], round_n)).split('.')[-1]\n",
    "res_few_max = \".\" + str(round(dist_res_eval['max'], round_n)).split('.')[-1]"
   ]
  },
  {
   "cell_type": "markdown",
   "metadata": {},
   "source": [
    "### Additional analysis\n",
    "\n",
    "We only select the test samples annotated with code-pre and code-suf already seen in train-dev (otherwise the sample would be impossible to be correctly annotated):"
   ]
  },
  {
   "cell_type": "code",
   "execution_count": 75,
   "metadata": {},
   "outputs": [],
   "source": [
    "df_test_gs_few_add = df_test_gs_few.copy()"
   ]
  },
  {
   "cell_type": "code",
   "execution_count": 76,
   "metadata": {},
   "outputs": [],
   "source": [
    "if TYPE_TASK == 'd':\n",
    "    df_test_gs_few_add[\"code_pre\"] = df_test_gs_few_add.code.apply(\n",
    "        lambda x: x.split('.')[0] in train_dev_codes_pre\n",
    "    )\n",
    "    df_test_gs_few_add[\"code_suf\"] = df_test_gs_few_add.code.apply(\n",
    "        lambda x: (None if not '.' in x else x.split('.')[1]) in train_dev_codes_suf\n",
    "    )\n",
    "else:\n",
    "    df_test_gs_few_add[\"code_pre\"] = df_test_gs_few_add.code.apply(\n",
    "        lambda x: x[:4] in train_dev_codes_pre\n",
    "    )\n",
    "    df_test_gs_few_add[\"code_suf\"] = df_test_gs_few_add.code.apply(\n",
    "        lambda x: (None if len(x) < 7 else x[4:7]) in train_dev_codes_suf\n",
    "    )"
   ]
  },
  {
   "cell_type": "code",
   "execution_count": 77,
   "metadata": {},
   "outputs": [],
   "source": [
    "bool_filt_samples = df_test_gs_few_add.apply(\n",
    "    lambda x: x[\"code_pre\"] == x[\"code_suf\"] == True, \n",
    "    axis=1\n",
    ").values"
   ]
  },
  {
   "cell_type": "code",
   "execution_count": 78,
   "metadata": {},
   "outputs": [],
   "source": [
    "df_test_gs_few_add = df_test_gs_few[bool_filt_samples]"
   ]
  },
  {
   "cell_type": "code",
   "execution_count": 79,
   "metadata": {},
   "outputs": [
    {
     "data": {
      "text/plain": [
       "(297, 7)"
      ]
     },
     "execution_count": 79,
     "metadata": {},
     "output_type": "execute_result"
    }
   ],
   "source": [
    "df_test_gs_few_add.shape"
   ]
  },
  {
   "cell_type": "markdown",
   "metadata": {},
   "source": [
    "Finally, se only select the test samples considered by the model at the time of prediction, i.e. test annotations for which a CLS sample can be produced: "
   ]
  },
  {
   "cell_type": "code",
   "execution_count": 80,
   "metadata": {},
   "outputs": [],
   "source": [
    "ind_pred_few_add = sorted(set(df_test_gs_few_add.index.values).intersection(set(df_pred_few.index)))"
   ]
  },
  {
   "cell_type": "code",
   "execution_count": 81,
   "metadata": {},
   "outputs": [],
   "source": [
    "df_test_gs_few_add_pos = df_test_gs_few_add.loc[ind_pred_few_add]"
   ]
  },
  {
   "cell_type": "code",
   "execution_count": 82,
   "metadata": {},
   "outputs": [
    {
     "data": {
      "text/plain": [
       "(236, 7)"
      ]
     },
     "execution_count": 82,
     "metadata": {},
     "output_type": "execute_result"
    }
   ],
   "source": [
    "df_test_gs_few_add_pos.shape"
   ]
  },
  {
   "cell_type": "code",
   "execution_count": 83,
   "metadata": {},
   "outputs": [],
   "source": [
    "arr_res_eval = []\n",
    "for i in range(1, 6):\n",
    "    df_pred_few = pd.read_csv(RES_DIR + \"df_test_few_preds_\" + TYPE_TASK + \"_hier_task_cls_mbert_galen_\" + str(i) + \".csv\", \n",
    "                    index_col=0, header=0, sep='\\t').sort_values(by=[\"clinical_case\", \"pos_pred\"])\n",
    "    code_pred_few_add_pos = [df_pred_few[\"code\"].loc[i] if i in df_pred_few.index else \"-\" for i in df_test_gs_few_add_pos.index] \n",
    "    assert len(code_pred_few_add_pos) == df_test_gs_few_add_pos.shape[0]\n",
    "    arr_res_eval.append(\n",
    "        (\n",
    "            pd.Series(df_test_gs_few_add_pos[\"code\"].values) == pd.Series(code_pred_few_add_pos)\n",
    "        ).value_counts(normalize=True)[True]\n",
    "    )\n",
    "dist_res_eval = pd.Series(arr_res_eval).describe()\n",
    "res_few_add_pos_mean_std = \".\" + str(round(dist_res_eval['mean'], round_n)).split('.')[-1] + \" ± \" + \\\n",
    "                    \".\" + str(round(dist_res_eval['std'], round_n)).split('.')[-1]\n",
    "res_few_add_pos_max = \".\" + str(round(dist_res_eval['max'], round_n)).split('.')[-1]"
   ]
  },
  {
   "cell_type": "code",
   "execution_count": 84,
   "metadata": {},
   "outputs": [],
   "source": [
    "res_eval[\"Few-shot\"] = {\n",
    "    \"All acc avg\": res_few_mean_std, \n",
    "    \"All acc max\": res_few_max, \n",
    "    \"Pos acc avg\": res_few_add_pos_mean_std,\n",
    "    \"Pos acc max\": res_few_add_pos_max\n",
    "}"
   ]
  },
  {
   "cell_type": "code",
   "execution_count": 85,
   "metadata": {},
   "outputs": [],
   "source": [
    "res_stat[\"Few-shot\"] = {\n",
    "    \"All codes\": len(set(df_test_gs_few.code)), \"All ment\": df_test_gs_few.shape[0], \n",
    "    \"Pos codes\": len(set(df_test_gs_few_add_pos.code)), \"Pos ment\": df_test_gs_few_add_pos.shape[0]\n",
    "}"
   ]
  },
  {
   "cell_type": "code",
   "execution_count": 86,
   "metadata": {},
   "outputs": [
    {
     "data": {
      "text/html": [
       "<div>\n",
       "<style scoped>\n",
       "    .dataframe tbody tr th:only-of-type {\n",
       "        vertical-align: middle;\n",
       "    }\n",
       "\n",
       "    .dataframe tbody tr th {\n",
       "        vertical-align: top;\n",
       "    }\n",
       "\n",
       "    .dataframe thead th {\n",
       "        text-align: right;\n",
       "    }\n",
       "</style>\n",
       "<table border=\"1\" class=\"dataframe\">\n",
       "  <thead>\n",
       "    <tr style=\"text-align: right;\">\n",
       "      <th></th>\n",
       "      <th>All acc avg</th>\n",
       "      <th>All acc max</th>\n",
       "      <th>Pos acc avg</th>\n",
       "      <th>Pos acc max</th>\n",
       "    </tr>\n",
       "  </thead>\n",
       "  <tbody>\n",
       "    <tr>\n",
       "      <th>Zero-shot</th>\n",
       "      <td>.023 ± .003</td>\n",
       "      <td>.027</td>\n",
       "      <td>.227 ± .032</td>\n",
       "      <td>.273</td>\n",
       "    </tr>\n",
       "    <tr>\n",
       "      <th>Few-shot</th>\n",
       "      <td>.285 ± .007</td>\n",
       "      <td>.295</td>\n",
       "      <td>.59 ± .014</td>\n",
       "      <td>.61</td>\n",
       "    </tr>\n",
       "  </tbody>\n",
       "</table>\n",
       "</div>"
      ],
      "text/plain": [
       "           All acc avg All acc max  Pos acc avg Pos acc max\n",
       "Zero-shot  .023 ± .003        .027  .227 ± .032        .273\n",
       "Few-shot   .285 ± .007        .295   .59 ± .014         .61"
      ]
     },
     "execution_count": 86,
     "metadata": {},
     "output_type": "execute_result"
    }
   ],
   "source": [
    "pd.DataFrame(res_eval).transpose()"
   ]
  },
  {
   "cell_type": "code",
   "execution_count": 87,
   "metadata": {},
   "outputs": [
    {
     "data": {
      "text/html": [
       "<div>\n",
       "<style scoped>\n",
       "    .dataframe tbody tr th:only-of-type {\n",
       "        vertical-align: middle;\n",
       "    }\n",
       "\n",
       "    .dataframe tbody tr th {\n",
       "        vertical-align: top;\n",
       "    }\n",
       "\n",
       "    .dataframe thead th {\n",
       "        text-align: right;\n",
       "    }\n",
       "</style>\n",
       "<table border=\"1\" class=\"dataframe\">\n",
       "  <thead>\n",
       "    <tr style=\"text-align: right;\">\n",
       "      <th></th>\n",
       "      <th>All codes</th>\n",
       "      <th>All ment</th>\n",
       "      <th>Pos codes</th>\n",
       "      <th>Pos ment</th>\n",
       "    </tr>\n",
       "  </thead>\n",
       "  <tbody>\n",
       "    <tr>\n",
       "      <th>Zero-shot</th>\n",
       "      <td>168</td>\n",
       "      <td>219</td>\n",
       "      <td>18</td>\n",
       "      <td>22</td>\n",
       "    </tr>\n",
       "    <tr>\n",
       "      <th>Few-shot</th>\n",
       "      <td>296</td>\n",
       "      <td>488</td>\n",
       "      <td>127</td>\n",
       "      <td>236</td>\n",
       "    </tr>\n",
       "  </tbody>\n",
       "</table>\n",
       "</div>"
      ],
      "text/plain": [
       "           All codes  All ment  Pos codes  Pos ment\n",
       "Zero-shot        168       219         18        22\n",
       "Few-shot         296       488        127       236"
      ]
     },
     "execution_count": 87,
     "metadata": {},
     "output_type": "execute_result"
    }
   ],
   "source": [
    "pd.DataFrame(res_stat).transpose()"
   ]
  }
 ],
 "metadata": {
  "kernelspec": {
   "display_name": "Python 3 (ipykernel)",
   "language": "python",
   "name": "python3"
  },
  "language_info": {
   "codemirror_mode": {
    "name": "ipython",
    "version": 3
   },
   "file_extension": ".py",
   "mimetype": "text/x-python",
   "name": "python",
   "nbconvert_exporter": "python",
   "pygments_lexer": "ipython3",
   "version": "3.8.10"
  }
 },
 "nbformat": 4,
 "nbformat_minor": 4
}
