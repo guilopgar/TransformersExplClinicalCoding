{
 "cells": [
  {
   "cell_type": "code",
   "execution_count": 1,
   "metadata": {},
   "outputs": [],
   "source": [
    "utils_path = \"../utils/\"\n",
    "corpus_path = \"../datasets/cantemist_v6/\"\n",
    "sub_task_path = \"cantemist-norm/\"\n",
    "test_gs_path = corpus_path + \"test-set/\" + sub_task_path"
   ]
  },
  {
   "cell_type": "code",
   "execution_count": 2,
   "metadata": {},
   "outputs": [
    {
     "name": "stderr",
     "output_type": "stream",
     "text": [
      "2023-01-11 09:11:03.051646: I tensorflow/stream_executor/platform/default/dso_loader.cc:53] Successfully opened dynamic library libcudart.so.11.0\n"
     ]
    }
   ],
   "source": [
    "import tensorflow as tf\n",
    "\n",
    "# Auxiliary components\n",
    "import sys\n",
    "sys.path.insert(0, utils_path)\n",
    "from nlp_utils import *\n",
    "\n",
    "RES_DIR = \"../results/Cantemist/final_exec/\"\n",
    "subtask = \"norm\"\n",
    "\n",
    "round_n = 3\n",
    "\n",
    "# GS data\n",
    "df_test_gs = format_ner_gs(test_gs_path, subtask=subtask)"
   ]
  },
  {
   "cell_type": "markdown",
   "metadata": {},
   "source": [
    "# Load data"
   ]
  },
  {
   "cell_type": "code",
   "execution_count": 3,
   "metadata": {},
   "outputs": [],
   "source": [
    "train_path = corpus_path + \"train-set/\" + sub_task_path\n",
    "train_files = [f for f in os.listdir(train_path) if os.path.isfile(train_path + f) and f.split('.')[-1] == \"txt\"]\n",
    "n_train_files = len(train_files)\n",
    "train_data = load_text_files(train_files, train_path)\n",
    "df_text_train = pd.DataFrame({'doc_id': [s.split('.txt')[0] for s in train_files], 'raw_text': train_data})"
   ]
  },
  {
   "cell_type": "code",
   "execution_count": 4,
   "metadata": {},
   "outputs": [],
   "source": [
    "test_path = corpus_path + \"test-set/\" + sub_task_path\n",
    "test_files = [f for f in os.listdir(test_path) if os.path.isfile(test_path + f) and f.split('.')[-1] == 'txt']\n",
    "test_data = load_text_files(test_files, test_path)\n",
    "df_text_test = pd.DataFrame({'doc_id': [s.split('.txt')[0] for s in test_files], 'raw_text': test_data})"
   ]
  },
  {
   "cell_type": "code",
   "execution_count": 5,
   "metadata": {},
   "outputs": [],
   "source": [
    "train_ann_files = [train_path + f for f in os.listdir(train_path) if f.split('.')[-1] == \"ann\"]"
   ]
  },
  {
   "cell_type": "code",
   "execution_count": 6,
   "metadata": {},
   "outputs": [],
   "source": [
    "df_codes_train_ner = process_brat_norm(train_ann_files).sort_values([\"doc_id\", \"start\", \"end\"])"
   ]
  },
  {
   "cell_type": "code",
   "execution_count": 7,
   "metadata": {},
   "outputs": [],
   "source": [
    "df_codes_train_ner[\"code_pre\"] = df_codes_train_ner[\"code\"].apply(lambda x: x.split('/')[0])\n",
    "df_codes_train_ner[\"code_suf\"] = df_codes_train_ner[\"code\"].apply(lambda x: '/'.join(x.split('/')[1:]))"
   ]
  },
  {
   "cell_type": "code",
   "execution_count": 8,
   "metadata": {},
   "outputs": [],
   "source": [
    "assert ~df_codes_train_ner[[\"doc_id\", \"start\", \"end\"]].duplicated().any()"
   ]
  },
  {
   "cell_type": "code",
   "execution_count": 9,
   "metadata": {},
   "outputs": [],
   "source": [
    "df_codes_train_ner_final = df_codes_train_ner.copy()"
   ]
  },
  {
   "cell_type": "code",
   "execution_count": 10,
   "metadata": {},
   "outputs": [
    {
     "name": "stdout",
     "output_type": "stream",
     "text": [
      "6396\n"
     ]
    }
   ],
   "source": [
    "print(df_codes_train_ner_final.shape[0])"
   ]
  },
  {
   "cell_type": "code",
   "execution_count": 11,
   "metadata": {},
   "outputs": [],
   "source": [
    "train_codes_pre = sorted(set(df_codes_train_ner_final[\"code_pre\"].values))"
   ]
  },
  {
   "cell_type": "code",
   "execution_count": 12,
   "metadata": {},
   "outputs": [
    {
     "data": {
      "text/plain": [
       "224"
      ]
     },
     "execution_count": 12,
     "metadata": {},
     "output_type": "execute_result"
    }
   ],
   "source": [
    "len(train_codes_pre)"
   ]
  },
  {
   "cell_type": "code",
   "execution_count": 13,
   "metadata": {},
   "outputs": [],
   "source": [
    "train_codes_suf = sorted(set(df_codes_train_ner_final[\"code_suf\"].values))"
   ]
  },
  {
   "cell_type": "code",
   "execution_count": 14,
   "metadata": {},
   "outputs": [
    {
     "name": "stdout",
     "output_type": "stream",
     "text": [
      "34\n"
     ]
    }
   ],
   "source": [
    "print(len(train_codes_suf))"
   ]
  },
  {
   "cell_type": "markdown",
   "metadata": {},
   "source": [
    "# Evaluation"
   ]
  },
  {
   "cell_type": "code",
   "execution_count": 15,
   "metadata": {},
   "outputs": [],
   "source": [
    "res_stat = {}\n",
    "res_eval = {}"
   ]
  },
  {
   "cell_type": "markdown",
   "metadata": {},
   "source": [
    "## Full"
   ]
  },
  {
   "cell_type": "code",
   "execution_count": 16,
   "metadata": {},
   "outputs": [],
   "source": [
    "df_test_gs_full = df_test_gs.sort_values(by=[\"clinical_case\", \"start_pos_gs\", \"end_pos_gs\"])"
   ]
  },
  {
   "cell_type": "code",
   "execution_count": 17,
   "metadata": {},
   "outputs": [
    {
     "data": {
      "text/plain": [
       "(3635, 8)"
      ]
     },
     "execution_count": 17,
     "metadata": {},
     "output_type": "execute_result"
    }
   ],
   "source": [
    "df_test_gs_full.shape"
   ]
  },
  {
   "cell_type": "code",
   "execution_count": 18,
   "metadata": {},
   "outputs": [],
   "source": [
    "arr_res_eval = []\n",
    "for i in range(1, 6):\n",
    "    df_pred_full = pd.read_csv(RES_DIR + \"df_test_full_preds_c_hier_task_cls_train_mbert_galen_\" + str(i) + \".csv\", \n",
    "                    index_col=0, header=0, sep='\\t').sort_values(by=[\"clinical_case\", \"start\", \"end\"])\n",
    "    assert df_pred_full.shape[0] == df_test_gs_full.shape[0]\n",
    "    arr_res_eval.append(\n",
    "        (\n",
    "            pd.Series(df_test_gs_full[\"code_gs\"].values) == pd.Series(df_pred_full[\"code_pred\"].values)\n",
    "        ).value_counts(normalize=True)[True]\n",
    "    )\n",
    "dist_res_eval = pd.Series(arr_res_eval).describe()\n",
    "res_full_mean_std = \".\" + str(round(dist_res_eval['mean'], round_n)).split('.')[-1] + \" ± \" + \\\n",
    "                    \".\" + str(round(dist_res_eval['std'], round_n)).split('.')[-1]\n",
    "res_full_max = \".\" + str(round(dist_res_eval['max'], round_n)).split('.')[-1]"
   ]
  },
  {
   "cell_type": "markdown",
   "metadata": {},
   "source": [
    "### Additional analysis\n",
    "\n",
    "We only select the test samples annotated with code-pre and code-suf already seen in train-dev (otherwise the sample would be impossible to be correctly annotated):"
   ]
  },
  {
   "cell_type": "code",
   "execution_count": 19,
   "metadata": {},
   "outputs": [],
   "source": [
    "df_test_gs_full_add = df_test_gs_full.copy()"
   ]
  },
  {
   "cell_type": "code",
   "execution_count": 20,
   "metadata": {},
   "outputs": [],
   "source": [
    "df_test_gs_full_add[\"code_pre\"] = df_test_gs_full_add.code_gs.apply(\n",
    "    lambda x: x.split('/')[0] in train_codes_pre\n",
    ")\n",
    "df_test_gs_full_add[\"code_suf\"] = df_test_gs_full_add.code_gs.apply(\n",
    "    lambda x: '/'.join(x.split('/')[1:]) in train_codes_suf\n",
    ")"
   ]
  },
  {
   "cell_type": "code",
   "execution_count": 21,
   "metadata": {},
   "outputs": [],
   "source": [
    "bool_filt_samples = df_test_gs_full_add.apply(\n",
    "    lambda x: x[\"code_pre\"] == x[\"code_suf\"] == True, \n",
    "    axis=1\n",
    ").values"
   ]
  },
  {
   "cell_type": "code",
   "execution_count": 22,
   "metadata": {},
   "outputs": [],
   "source": [
    "df_test_gs_full_add = df_test_gs_full[bool_filt_samples]"
   ]
  },
  {
   "cell_type": "code",
   "execution_count": 23,
   "metadata": {},
   "outputs": [
    {
     "data": {
      "text/plain": [
       "(3504, 8)"
      ]
     },
     "execution_count": 23,
     "metadata": {},
     "output_type": "execute_result"
    }
   ],
   "source": [
    "df_test_gs_full_add.shape"
   ]
  },
  {
   "cell_type": "code",
   "execution_count": 24,
   "metadata": {},
   "outputs": [],
   "source": [
    "arr_res_eval = []\n",
    "for i in range(1, 6):\n",
    "    df_pred_full = pd.read_csv(RES_DIR + \"df_test_full_preds_c_hier_task_cls_train_mbert_galen_\" + str(i) + \".csv\", \n",
    "                    index_col=0, header=0, sep='\\t').sort_values(by=[\"clinical_case\", \"start\", \"end\"])\n",
    "    df_pred_full_add = df_pred_full[bool_filt_samples]\n",
    "    assert df_pred_full_add.shape[0] == df_test_gs_full_add.shape[0]\n",
    "    arr_res_eval.append(\n",
    "        (\n",
    "            pd.Series(df_test_gs_full_add[\"code_gs\"].values) == pd.Series(df_pred_full_add[\"code_pred\"].values)\n",
    "        ).value_counts(normalize=True)[True]\n",
    "    )\n",
    "dist_res_eval = pd.Series(arr_res_eval).describe()\n",
    "res_full_add_mean_std = \".\" + str(round(dist_res_eval['mean'], round_n)).split('.')[-1] + \" ± \" + \\\n",
    "                    \".\" + str(round(dist_res_eval['std'], round_n)).split('.')[-1]\n",
    "res_full_add_max = \".\" + str(round(dist_res_eval['max'], round_n)).split('.')[-1]"
   ]
  },
  {
   "cell_type": "code",
   "execution_count": 25,
   "metadata": {},
   "outputs": [],
   "source": [
    "res_eval[\"Full\"] = {\n",
    "    \"All acc avg\": res_full_mean_std, \n",
    "    \"All acc max\": res_full_max, \n",
    "    \"Pos acc avg\": res_full_add_mean_std,\n",
    "    \"Pos acc max\": res_full_add_max\n",
    "}"
   ]
  },
  {
   "cell_type": "code",
   "execution_count": 26,
   "metadata": {},
   "outputs": [],
   "source": [
    "res_stat[\"Full\"] = {\n",
    "    \"All codes\": len(set(df_test_gs_full.code_gs)), \"All ment\": df_test_gs_full.shape[0], \n",
    "    \"Pos codes\": len(set(df_test_gs_full_add.code_gs)), \"Pos ment\": df_test_gs_full_add.shape[0]\n",
    "}"
   ]
  },
  {
   "cell_type": "markdown",
   "metadata": {},
   "source": [
    "## Filtering\n",
    "\n",
    "Considering mentions that are only present in the test set."
   ]
  },
  {
   "cell_type": "code",
   "execution_count": 27,
   "metadata": {},
   "outputs": [],
   "source": [
    "train_mentions = sorted(set([x.lower() for x in set(\n",
    "    df_codes_train_ner_final[\"text_ref\"].values\n",
    ")]))"
   ]
  },
  {
   "cell_type": "code",
   "execution_count": 28,
   "metadata": {},
   "outputs": [
    {
     "data": {
      "text/plain": [
       "1978"
      ]
     },
     "execution_count": 28,
     "metadata": {},
     "output_type": "execute_result"
    }
   ],
   "source": [
    "len(train_mentions)"
   ]
  },
  {
   "cell_type": "code",
   "execution_count": 29,
   "metadata": {},
   "outputs": [],
   "source": [
    "df_test_gs_filt = df_test_gs[df_test_gs.span.apply(\n",
    "    lambda x: x.lower() not in train_mentions\n",
    ")].sort_values(by=[\"clinical_case\", \"start_pos_gs\", \"end_pos_gs\"])"
   ]
  },
  {
   "cell_type": "code",
   "execution_count": 30,
   "metadata": {},
   "outputs": [
    {
     "data": {
      "text/plain": [
       "(998, 8)"
      ]
     },
     "execution_count": 30,
     "metadata": {},
     "output_type": "execute_result"
    }
   ],
   "source": [
    "df_test_gs_filt.shape"
   ]
  },
  {
   "cell_type": "code",
   "execution_count": 31,
   "metadata": {},
   "outputs": [],
   "source": [
    "arr_res_eval = []\n",
    "for i in range(1, 6):\n",
    "    df_pred_filt = pd.read_csv(RES_DIR + \"df_test_filt_preds_c_hier_task_cls_train_mbert_galen_\" + str(i) + \".csv\", \n",
    "                    index_col=0, header=0, sep='\\t').sort_values(by=[\"clinical_case\", \"start\", \"end\"])\n",
    "    assert df_pred_filt.shape[0] == df_test_gs_filt.shape[0]\n",
    "    arr_res_eval.append(\n",
    "        (\n",
    "            pd.Series(df_test_gs_filt[\"code_gs\"].values) == pd.Series(df_pred_filt[\"code_pred\"].values)\n",
    "        ).value_counts(normalize=True)[True]\n",
    "    )\n",
    "dist_res_eval = pd.Series(arr_res_eval).describe()\n",
    "res_filt_mean_std = \".\" + str(round(dist_res_eval['mean'], round_n)).split('.')[-1] + \" ± \" + \\\n",
    "                    \".\" + str(round(dist_res_eval['std'], round_n)).split('.')[-1]\n",
    "res_filt_max = \".\" + str(round(dist_res_eval['max'], round_n)).split('.')[-1]"
   ]
  },
  {
   "cell_type": "markdown",
   "metadata": {},
   "source": [
    "### Additional analysis\n",
    "\n",
    "We only select the test samples annotated with code-pre and code-suf already seen in train-dev (otherwise the sample would be impossible to be correctly annotated):"
   ]
  },
  {
   "cell_type": "code",
   "execution_count": 32,
   "metadata": {},
   "outputs": [],
   "source": [
    "df_test_gs_filt_add = df_test_gs_filt.copy()"
   ]
  },
  {
   "cell_type": "code",
   "execution_count": 33,
   "metadata": {},
   "outputs": [],
   "source": [
    "df_test_gs_filt_add[\"code_pre\"] = df_test_gs_filt_add.code_gs.apply(\n",
    "    lambda x: x.split('/')[0] in train_codes_pre\n",
    ")\n",
    "df_test_gs_filt_add[\"code_suf\"] = df_test_gs_filt_add.code_gs.apply(\n",
    "    lambda x: '/'.join(x.split('/')[1:]) in train_codes_suf\n",
    ")"
   ]
  },
  {
   "cell_type": "code",
   "execution_count": 34,
   "metadata": {},
   "outputs": [],
   "source": [
    "bool_filt_samples = df_test_gs_filt_add.apply(\n",
    "    lambda x: x[\"code_pre\"] == x[\"code_suf\"] == True, \n",
    "    axis=1\n",
    ").values"
   ]
  },
  {
   "cell_type": "code",
   "execution_count": 35,
   "metadata": {},
   "outputs": [],
   "source": [
    "df_test_gs_filt_add = df_test_gs_filt[bool_filt_samples]"
   ]
  },
  {
   "cell_type": "code",
   "execution_count": 36,
   "metadata": {},
   "outputs": [
    {
     "data": {
      "text/plain": [
       "(868, 8)"
      ]
     },
     "execution_count": 36,
     "metadata": {},
     "output_type": "execute_result"
    }
   ],
   "source": [
    "df_test_gs_filt_add.shape"
   ]
  },
  {
   "cell_type": "code",
   "execution_count": 37,
   "metadata": {},
   "outputs": [],
   "source": [
    "arr_res_eval = []\n",
    "for i in range(1, 6):\n",
    "    df_pred_filt = pd.read_csv(RES_DIR + \"df_test_filt_preds_c_hier_task_cls_train_mbert_galen_\" + str(i) + \".csv\", \n",
    "                    index_col=0, header=0, sep='\\t').sort_values(by=[\"clinical_case\", \"start\", \"end\"])\n",
    "    df_pred_filt_add = df_pred_filt[bool_filt_samples]\n",
    "    assert df_pred_filt_add.shape[0] == df_test_gs_filt_add.shape[0]\n",
    "    arr_res_eval.append(\n",
    "        (\n",
    "            pd.Series(df_test_gs_filt_add[\"code_gs\"].values) == pd.Series(df_pred_filt_add[\"code_pred\"].values)\n",
    "        ).value_counts(normalize=True)[True]\n",
    "    )\n",
    "dist_res_eval = pd.Series(arr_res_eval).describe()\n",
    "res_filt_add_mean_std = \".\" + str(round(dist_res_eval['mean'], round_n)).split('.')[-1] + \" ± \" + \\\n",
    "                    \".\" + str(round(dist_res_eval['std'], round_n)).split('.')[-1]\n",
    "res_filt_add_max = \".\" + str(round(dist_res_eval['max'], round_n)).split('.')[-1]"
   ]
  },
  {
   "cell_type": "code",
   "execution_count": 38,
   "metadata": {},
   "outputs": [],
   "source": [
    "res_eval[\"Filtering\"] = {\n",
    "    \"All acc avg\": res_filt_mean_std, \n",
    "    \"All acc max\": res_filt_max, \n",
    "    \"Pos acc avg\": res_filt_add_mean_std,\n",
    "    \"Pos acc max\": res_filt_add_max\n",
    "}"
   ]
  },
  {
   "cell_type": "code",
   "execution_count": 39,
   "metadata": {},
   "outputs": [],
   "source": [
    "res_stat[\"Filtering\"] = {\n",
    "    \"All codes\": len(set(df_test_gs_filt.code_gs)), \"All ment\": df_test_gs_filt.shape[0], \n",
    "    \"Pos codes\": len(set(df_test_gs_filt_add.code_gs)), \"Pos ment\": df_test_gs_filt_add.shape[0]\n",
    "}"
   ]
  },
  {
   "cell_type": "code",
   "execution_count": 40,
   "metadata": {},
   "outputs": [
    {
     "data": {
      "text/html": [
       "<div>\n",
       "<style scoped>\n",
       "    .dataframe tbody tr th:only-of-type {\n",
       "        vertical-align: middle;\n",
       "    }\n",
       "\n",
       "    .dataframe tbody tr th {\n",
       "        vertical-align: top;\n",
       "    }\n",
       "\n",
       "    .dataframe thead th {\n",
       "        text-align: right;\n",
       "    }\n",
       "</style>\n",
       "<table border=\"1\" class=\"dataframe\">\n",
       "  <thead>\n",
       "    <tr style=\"text-align: right;\">\n",
       "      <th></th>\n",
       "      <th>All codes</th>\n",
       "      <th>All ment</th>\n",
       "      <th>Pos codes</th>\n",
       "      <th>Pos ment</th>\n",
       "    </tr>\n",
       "  </thead>\n",
       "  <tbody>\n",
       "    <tr>\n",
       "      <th>Full</th>\n",
       "      <td>386</td>\n",
       "      <td>3635</td>\n",
       "      <td>307</td>\n",
       "      <td>3504</td>\n",
       "    </tr>\n",
       "    <tr>\n",
       "      <th>Filtering</th>\n",
       "      <td>332</td>\n",
       "      <td>998</td>\n",
       "      <td>254</td>\n",
       "      <td>868</td>\n",
       "    </tr>\n",
       "  </tbody>\n",
       "</table>\n",
       "</div>"
      ],
      "text/plain": [
       "           All codes  All ment  Pos codes  Pos ment\n",
       "Full             386      3635        307      3504\n",
       "Filtering        332       998        254       868"
      ]
     },
     "execution_count": 40,
     "metadata": {},
     "output_type": "execute_result"
    }
   ],
   "source": [
    "pd.DataFrame(res_stat).transpose()"
   ]
  },
  {
   "cell_type": "code",
   "execution_count": 41,
   "metadata": {},
   "outputs": [
    {
     "data": {
      "text/html": [
       "<div>\n",
       "<style scoped>\n",
       "    .dataframe tbody tr th:only-of-type {\n",
       "        vertical-align: middle;\n",
       "    }\n",
       "\n",
       "    .dataframe tbody tr th {\n",
       "        vertical-align: top;\n",
       "    }\n",
       "\n",
       "    .dataframe thead th {\n",
       "        text-align: right;\n",
       "    }\n",
       "</style>\n",
       "<table border=\"1\" class=\"dataframe\">\n",
       "  <thead>\n",
       "    <tr style=\"text-align: right;\">\n",
       "      <th></th>\n",
       "      <th>All acc avg</th>\n",
       "      <th>All acc max</th>\n",
       "      <th>Pos acc avg</th>\n",
       "      <th>Pos acc max</th>\n",
       "    </tr>\n",
       "  </thead>\n",
       "  <tbody>\n",
       "    <tr>\n",
       "      <th>Full</th>\n",
       "      <td>.894 ± .002</td>\n",
       "      <td>.896</td>\n",
       "      <td>.927 ± .002</td>\n",
       "      <td>.929</td>\n",
       "    </tr>\n",
       "    <tr>\n",
       "      <th>Filtering</th>\n",
       "      <td>.64 ± .004</td>\n",
       "      <td>.645</td>\n",
       "      <td>.735 ± .005</td>\n",
       "      <td>.742</td>\n",
       "    </tr>\n",
       "  </tbody>\n",
       "</table>\n",
       "</div>"
      ],
      "text/plain": [
       "           All acc avg All acc max  Pos acc avg Pos acc max\n",
       "Full       .894 ± .002        .896  .927 ± .002        .929\n",
       "Filtering   .64 ± .004        .645  .735 ± .005        .742"
      ]
     },
     "execution_count": 41,
     "metadata": {},
     "output_type": "execute_result"
    }
   ],
   "source": [
    "pd.DataFrame(res_eval).transpose()"
   ]
  }
 ],
 "metadata": {
  "kernelspec": {
   "display_name": "Python 3 (ipykernel)",
   "language": "python",
   "name": "python3"
  },
  "language_info": {
   "codemirror_mode": {
    "name": "ipython",
    "version": 3
   },
   "file_extension": ".py",
   "mimetype": "text/x-python",
   "name": "python",
   "nbconvert_exporter": "python",
   "pygments_lexer": "ipython3",
   "version": "3.8.10"
  }
 },
 "nbformat": 4,
 "nbformat_minor": 4
}
