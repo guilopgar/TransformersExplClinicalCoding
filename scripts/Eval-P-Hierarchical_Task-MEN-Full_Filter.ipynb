{
 "cells": [
  {
   "cell_type": "code",
   "execution_count": 1,
   "metadata": {},
   "outputs": [],
   "source": [
    "utils_path = \"../utils/\"\n",
    "corpus_path = \"../datasets/final_dataset_v4_to_publish/\"\n",
    "test_gs_path = corpus_path + \"test/testX.tsv\""
   ]
  },
  {
   "cell_type": "code",
   "execution_count": 2,
   "metadata": {},
   "outputs": [
    {
     "name": "stderr",
     "output_type": "stream",
     "text": [
      "2023-01-11 10:02:43.366503: I tensorflow/stream_executor/platform/default/dso_loader.cc:53] Successfully opened dynamic library libcudart.so.11.0\n",
      "/home/comun/guillermo/NLP/scripts/../utils/nlp_utils.py:4848: FutureWarning: Columnar iteration over characters will be deprecated in future releases.\n"
     ]
    }
   ],
   "source": [
    "import tensorflow as tf\n",
    "\n",
    "# Auxiliary components\n",
    "import sys\n",
    "sys.path.insert(0, utils_path)\n",
    "from nlp_utils import *\n",
    "\n",
    "RES_DIR = \"../results/CodiEsp/final_exec/\"\n",
    "\n",
    "TYPE_ANN = \"PROCEDIMIENTO\"\n",
    "TYPE_TASK = TYPE_ANN[0].lower()\n",
    "\n",
    "round_n = 3\n",
    "\n",
    "# GS data\n",
    "df_test_gs = format_codiesp_x_gs(test_gs_path)\n",
    "df_test_gs = df_test_gs[df_test_gs['label_gs'] == TYPE_ANN]\n",
    "\n",
    "codes_d_path = corpus_path + \"codiesp_codes/codiesp-\" + TYPE_TASK.upper() + \"_codes.tsv\"\n",
    "valid_codes = set(pd.read_csv(codes_d_path, sep='\\t', header=None, \n",
    "                                  usecols=[0])[0].tolist())\n",
    "valid_codes = set([x.lower() for x in valid_codes])"
   ]
  },
  {
   "cell_type": "code",
   "execution_count": 3,
   "metadata": {},
   "outputs": [],
   "source": [
    "ss_corpus_path = \"../datasets/CodiEsp-SSplit-text/\""
   ]
  },
  {
   "cell_type": "markdown",
   "metadata": {},
   "source": [
    "# Load data"
   ]
  },
  {
   "cell_type": "code",
   "execution_count": 4,
   "metadata": {},
   "outputs": [],
   "source": [
    "train_path = corpus_path + \"train/text_files/\"\n",
    "train_files = [f for f in os.listdir(train_path) if os.path.isfile(train_path + f) and f.split('.')[-1] == \"txt\"]\n",
    "train_data = load_text_files(train_files, train_path)\n",
    "df_text_train = pd.DataFrame({'doc_id': [s.split('.txt')[0] for s in train_files], 'raw_text': train_data})"
   ]
  },
  {
   "cell_type": "code",
   "execution_count": 5,
   "metadata": {},
   "outputs": [],
   "source": [
    "test_path = corpus_path + \"test/text_files/\"\n",
    "test_files = [f for f in os.listdir(test_path) if os.path.isfile(test_path + f) and f.split('.')[-1] == 'txt']\n",
    "test_data = load_text_files(test_files, test_path)\n",
    "df_text_test = pd.DataFrame({'doc_id': [s.split('.txt')[0] for s in test_files], 'raw_text': test_data})"
   ]
  },
  {
   "cell_type": "code",
   "execution_count": 6,
   "metadata": {},
   "outputs": [],
   "source": [
    "df_codes_train_ner = pd.read_table(corpus_path + \"train/trainX.tsv\", sep='\\t', header=None)\n",
    "df_codes_train_ner.columns = [\"doc_id\", \"type\", \"code\", \"word\", \"location\"]\n",
    "df_codes_train_ner = df_codes_train_ner[~df_codes_train_ner[['doc_id', 'type', 'location']].duplicated(keep='first')]\n",
    "df_codes_train_ner['disc'] = df_codes_train_ner['location'].apply(lambda x: ';' in x)"
   ]
  },
  {
   "cell_type": "markdown",
   "metadata": {},
   "source": [
    "Select one type of annotations:"
   ]
  },
  {
   "cell_type": "code",
   "execution_count": 7,
   "metadata": {},
   "outputs": [],
   "source": [
    "df_codes_train_ner = df_codes_train_ner[df_codes_train_ner['type'] == TYPE_ANN]"
   ]
  },
  {
   "cell_type": "markdown",
   "metadata": {},
   "source": [
    "Split discontinuous annotations:"
   ]
  },
  {
   "cell_type": "code",
   "execution_count": 8,
   "metadata": {},
   "outputs": [],
   "source": [
    "df_codes_train_ner_final = process_labels_norm_prueba(df_ann=df_codes_train_ner[[\"doc_id\", \"type\", \"code\", \"word\", \"location\"]])"
   ]
  },
  {
   "cell_type": "markdown",
   "metadata": {},
   "source": [
    "Remove annotations of zero length:"
   ]
  },
  {
   "cell_type": "code",
   "execution_count": 9,
   "metadata": {},
   "outputs": [],
   "source": [
    "df_codes_train_ner_final['length'] = df_codes_train_ner_final.apply(lambda x: x['end'] - x['start'], axis=1)\n",
    "df_codes_train_ner_final = df_codes_train_ner_final[df_codes_train_ner_final['length'] > 0]"
   ]
  },
  {
   "cell_type": "markdown",
   "metadata": {},
   "source": [
    "Separate continuous and discontinuous annotations:"
   ]
  },
  {
   "cell_type": "code",
   "execution_count": 10,
   "metadata": {},
   "outputs": [],
   "source": [
    "# Continiuous\n",
    "df_codes_train_ner_final_cont = df_codes_train_ner_final[df_codes_train_ner_final['disc'] == 0].copy()\n",
    "df_codes_train_ner_final_cont['disc'] = df_codes_train_ner_final_cont['disc'].astype(bool)"
   ]
  },
  {
   "cell_type": "code",
   "execution_count": 11,
   "metadata": {},
   "outputs": [],
   "source": [
    "# Discontinuous\n",
    "df_codes_train_ner_final_disc = restore_disc_ann(df_ann=df_codes_train_ner[df_codes_train_ner['disc']], \n",
    "                    df_ann_final=df_codes_train_ner_final[df_codes_train_ner_final['disc'] == 1])"
   ]
  },
  {
   "cell_type": "code",
   "execution_count": 12,
   "metadata": {},
   "outputs": [],
   "source": [
    "df_codes_train_ner_final_disc['start'] = df_codes_train_ner_final_disc['location'].apply(lambda x: int(x.split(' ')[0]))\n",
    "df_codes_train_ner_final_disc['end'] = df_codes_train_ner_final_disc['location'].apply(lambda x: int(x.split(' ')[-1]))"
   ]
  },
  {
   "cell_type": "markdown",
   "metadata": {},
   "source": [
    "Concatenate continuous and discontinuous annotations:"
   ]
  },
  {
   "cell_type": "code",
   "execution_count": 13,
   "metadata": {},
   "outputs": [],
   "source": [
    "# Concat\n",
    "cols_concat = ['doc_id', 'type', 'code', 'word', 'location', 'start', 'end', 'disc']\n",
    "df_codes_train_ner_final = pd.concat([df_codes_train_ner_final_cont[cols_concat], \n",
    "                                      df_codes_train_ner_final_disc[cols_concat]])"
   ]
  },
  {
   "cell_type": "markdown",
   "metadata": {},
   "source": [
    "Now, we remove the right-to-left (text wise) discontinuous annotations:"
   ]
  },
  {
   "cell_type": "code",
   "execution_count": 14,
   "metadata": {},
   "outputs": [],
   "source": [
    "df_codes_train_ner_final['direction'] = df_codes_train_ner_final.apply(check_ann_left_right_direction, axis=1)"
   ]
  },
  {
   "cell_type": "code",
   "execution_count": 15,
   "metadata": {},
   "outputs": [],
   "source": [
    "df_codes_train_ner_final = df_codes_train_ner_final[df_codes_train_ner_final['direction']]"
   ]
  },
  {
   "cell_type": "markdown",
   "metadata": {},
   "source": [
    "We only select the annotations fully contained in a single sentence:"
   ]
  },
  {
   "cell_type": "code",
   "execution_count": 16,
   "metadata": {},
   "outputs": [],
   "source": [
    "# Sentence-Split data\n",
    "ss_sub_corpus_path = ss_corpus_path + \"train/\"\n",
    "ss_files = [f for f in os.listdir(ss_sub_corpus_path) if os.path.isfile(ss_sub_corpus_path + f)]\n",
    "ss_dict_train = load_ss_files(ss_files, ss_sub_corpus_path)"
   ]
  },
  {
   "cell_type": "code",
   "execution_count": 17,
   "metadata": {},
   "outputs": [],
   "source": [
    "df_mult_sent_train, df_one_sent_train, df_no_sent_train = check_ann_span_sent(df_ann=df_codes_train_ner_final, \n",
    "                                                                             ss_dict=ss_dict_train)"
   ]
  },
  {
   "cell_type": "code",
   "execution_count": 18,
   "metadata": {},
   "outputs": [],
   "source": [
    "df_codes_train_ner_final = df_one_sent_train.copy()"
   ]
  },
  {
   "cell_type": "code",
   "execution_count": 19,
   "metadata": {},
   "outputs": [
    {
     "name": "stdout",
     "output_type": "stream",
     "text": [
      "False    1205\n",
      "True      355\n",
      "Name: disc, dtype: int64\n"
     ]
    }
   ],
   "source": [
    "print(df_codes_train_ner_final.disc.value_counts())"
   ]
  },
  {
   "cell_type": "code",
   "execution_count": 20,
   "metadata": {},
   "outputs": [],
   "source": [
    "df_codes_train_ner_final.sort_values(['doc_id', 'start', 'end'], inplace=True)"
   ]
  },
  {
   "cell_type": "code",
   "execution_count": 21,
   "metadata": {},
   "outputs": [],
   "source": [
    "# Code splitting"
   ]
  },
  {
   "cell_type": "code",
   "execution_count": 22,
   "metadata": {},
   "outputs": [],
   "source": [
    "if TYPE_TASK == 'd':\n",
    "    df_codes_train_ner_final[\"code_pre\"] = df_codes_train_ner_final[\"code\"].apply(lambda x: x.split('.')[0])\n",
    "    df_codes_train_ner_final[\"code_suf\"] = df_codes_train_ner_final[\"code\"].apply(lambda x: None if not '.' in x else x.split('.')[1])\n",
    "else:\n",
    "    df_codes_train_ner_final[\"code_pre\"] = df_codes_train_ner_final[\"code\"].apply(lambda x: x[:4])\n",
    "    df_codes_train_ner_final[\"code_suf\"] = df_codes_train_ner_final[\"code\"].apply(lambda x: None if len(x) < 7 else x[4:7])"
   ]
  },
  {
   "cell_type": "code",
   "execution_count": 23,
   "metadata": {},
   "outputs": [],
   "source": [
    "train_dev_codes_pre = sorted(set(df_codes_train_ner_final[\"code_pre\"].values))"
   ]
  },
  {
   "cell_type": "code",
   "execution_count": 24,
   "metadata": {},
   "outputs": [
    {
     "data": {
      "text/plain": [
       "354"
      ]
     },
     "execution_count": 24,
     "metadata": {},
     "output_type": "execute_result"
    }
   ],
   "source": [
    "len(train_dev_codes_pre)"
   ]
  },
  {
   "cell_type": "code",
   "execution_count": 25,
   "metadata": {},
   "outputs": [],
   "source": [
    "train_dev_codes_suf = sorted(set(df_codes_train_ner_final[df_codes_train_ner_final['code_suf'].apply(lambda x: x is not None)][\"code_suf\"].values)) "
   ]
  },
  {
   "cell_type": "code",
   "execution_count": 26,
   "metadata": {},
   "outputs": [
    {
     "data": {
      "text/plain": [
       "53"
      ]
     },
     "execution_count": 26,
     "metadata": {},
     "output_type": "execute_result"
    }
   ],
   "source": [
    "len(train_dev_codes_suf)"
   ]
  },
  {
   "cell_type": "code",
   "execution_count": 27,
   "metadata": {},
   "outputs": [],
   "source": [
    "subtask = 'norm'\n",
    "subtask_ann = subtask + '-iob_code_suf'\n",
    "\n",
    "CODE_SEP = '.' if TYPE_ANN == 'DIAGNOSTICO' else ''"
   ]
  },
  {
   "cell_type": "markdown",
   "metadata": {},
   "source": [
    "# Evaluation"
   ]
  },
  {
   "cell_type": "code",
   "execution_count": 28,
   "metadata": {},
   "outputs": [],
   "source": [
    "res_stat = {}\n",
    "res_eval = {}"
   ]
  },
  {
   "cell_type": "markdown",
   "metadata": {},
   "source": [
    "## Full\n",
    "\n",
    "Considering all mentions that are present in the test set."
   ]
  },
  {
   "cell_type": "code",
   "execution_count": 29,
   "metadata": {},
   "outputs": [],
   "source": [
    "df_test_gs_full = df_test_gs.sort_values(by=[\"clinical_case\", \"start_pos_gs\", \"end_pos_gs\"])"
   ]
  },
  {
   "cell_type": "code",
   "execution_count": 30,
   "metadata": {},
   "outputs": [
    {
     "data": {
      "text/plain": [
       "(1112, 7)"
      ]
     },
     "execution_count": 30,
     "metadata": {},
     "output_type": "execute_result"
    }
   ],
   "source": [
    "df_test_gs_full.shape"
   ]
  },
  {
   "cell_type": "code",
   "execution_count": 31,
   "metadata": {},
   "outputs": [],
   "source": [
    "arr_res_eval = []\n",
    "for i in range(1, 6):\n",
    "    df_pred_full = pd.read_csv(RES_DIR + \"df_test_full_preds_\" + TYPE_TASK + \"_hier_task_cls_train_mbert_galen_\" + str(i) + \".csv\", \n",
    "                    index_col=0, header=0, sep='\\t').sort_values(by=[\"clinical_case\", \"pos_pred\"])\n",
    "    code_pred_full = [df_pred_full[\"code\"].loc[i] if i in df_pred_full.index else \"-\" for i in df_test_gs_full.index] \n",
    "    assert len(code_pred_full) == df_test_gs_full.shape[0]\n",
    "    arr_res_eval.append(\n",
    "        (\n",
    "            pd.Series(df_test_gs_full[\"code\"].values) == pd.Series(code_pred_full)\n",
    "        ).value_counts(normalize=True)[True]\n",
    "    )\n",
    "dist_res_eval = pd.Series(arr_res_eval).describe()\n",
    "res_full_mean_std = \".\" + str(round(dist_res_eval['mean'], round_n)).split('.')[-1] + \" ± \" + \\\n",
    "                    \".\" + str(round(dist_res_eval['std'], round_n)).split('.')[-1]\n",
    "res_full_max = \".\" + str(round(dist_res_eval['max'], round_n)).split('.')[-1]"
   ]
  },
  {
   "cell_type": "markdown",
   "metadata": {},
   "source": [
    "### Additional analysis\n",
    "\n",
    "We only select the test samples annotated with code-pre and code-suf already seen in train-dev (otherwise the sample would be impossible to be correctly annotated):"
   ]
  },
  {
   "cell_type": "code",
   "execution_count": 32,
   "metadata": {},
   "outputs": [],
   "source": [
    "df_test_gs_full_add = df_test_gs_full.copy()"
   ]
  },
  {
   "cell_type": "code",
   "execution_count": 33,
   "metadata": {},
   "outputs": [],
   "source": [
    "if TYPE_TASK == 'd':\n",
    "    df_test_gs_full_add[\"code_pre\"] = df_test_gs_full_add.code.apply(\n",
    "        lambda x: x.split('.')[0] in train_dev_codes_pre\n",
    "    )\n",
    "    df_test_gs_full_add[\"code_suf\"] = df_test_gs_full_add.code.apply(\n",
    "        lambda x: (None if not '.' in x else x.split('.')[1]) in train_dev_codes_suf\n",
    "    )\n",
    "else:\n",
    "    df_test_gs_full_add[\"code_pre\"] = df_test_gs_full_add.code.apply(\n",
    "        lambda x: x[:4] in train_dev_codes_pre\n",
    "    )\n",
    "    df_test_gs_full_add[\"code_suf\"] = df_test_gs_full_add.code.apply(\n",
    "        lambda x: (None if len(x) < 7 else x[4:7]) in train_dev_codes_suf\n",
    "    )"
   ]
  },
  {
   "cell_type": "code",
   "execution_count": 34,
   "metadata": {},
   "outputs": [],
   "source": [
    "bool_filt_samples = df_test_gs_full_add.apply(\n",
    "    lambda x: x[\"code_pre\"] == x[\"code_suf\"] == True, \n",
    "    axis=1\n",
    ").values"
   ]
  },
  {
   "cell_type": "code",
   "execution_count": 35,
   "metadata": {},
   "outputs": [],
   "source": [
    "df_test_gs_full_add = df_test_gs_full[bool_filt_samples]"
   ]
  },
  {
   "cell_type": "code",
   "execution_count": 36,
   "metadata": {},
   "outputs": [
    {
     "data": {
      "text/plain": [
       "(437, 7)"
      ]
     },
     "execution_count": 36,
     "metadata": {},
     "output_type": "execute_result"
    }
   ],
   "source": [
    "df_test_gs_full_add.shape"
   ]
  },
  {
   "cell_type": "markdown",
   "metadata": {},
   "source": [
    "Finally, se only select the test samples considered by the model at the time of prediction, i.e. test annotations for which a CLS sample can be produced: "
   ]
  },
  {
   "cell_type": "code",
   "execution_count": 37,
   "metadata": {},
   "outputs": [],
   "source": [
    "ind_pred_full_add = sorted(set(df_test_gs_full_add.index.values).intersection(set(df_pred_full.index)))"
   ]
  },
  {
   "cell_type": "code",
   "execution_count": 38,
   "metadata": {},
   "outputs": [],
   "source": [
    "df_test_gs_full_add_pos = df_test_gs_full_add.loc[ind_pred_full_add]"
   ]
  },
  {
   "cell_type": "code",
   "execution_count": 39,
   "metadata": {},
   "outputs": [
    {
     "data": {
      "text/plain": [
       "(413, 7)"
      ]
     },
     "execution_count": 39,
     "metadata": {},
     "output_type": "execute_result"
    }
   ],
   "source": [
    "df_test_gs_full_add_pos.shape"
   ]
  },
  {
   "cell_type": "code",
   "execution_count": 40,
   "metadata": {},
   "outputs": [],
   "source": [
    "arr_res_eval = []\n",
    "for i in range(1, 6):\n",
    "    df_pred_full = pd.read_csv(RES_DIR + \"df_test_full_preds_\" + TYPE_TASK + \"_hier_task_cls_train_mbert_galen_\" + str(i) + \".csv\", \n",
    "                    index_col=0, header=0, sep='\\t').sort_values(by=[\"clinical_case\", \"pos_pred\"])\n",
    "    code_pred_full_add_pos = [df_pred_full[\"code\"].loc[i] if i in df_pred_full.index else \"-\" for i in df_test_gs_full_add_pos.index] \n",
    "    assert len(code_pred_full_add_pos) == df_test_gs_full_add_pos.shape[0]\n",
    "    arr_res_eval.append(\n",
    "        (\n",
    "            pd.Series(df_test_gs_full_add_pos[\"code\"].values) == pd.Series(code_pred_full_add_pos)\n",
    "        ).value_counts(normalize=True)[True]\n",
    "    )\n",
    "dist_res_eval = pd.Series(arr_res_eval).describe()\n",
    "res_full_add_pos_mean_std = \".\" + str(round(dist_res_eval['mean'], round_n)).split('.')[-1] + \" ± \" + \\\n",
    "                    \".\" + str(round(dist_res_eval['std'], round_n)).split('.')[-1]\n",
    "res_full_add_pos_max = \".\" + str(round(dist_res_eval['max'], round_n)).split('.')[-1]"
   ]
  },
  {
   "cell_type": "code",
   "execution_count": 41,
   "metadata": {},
   "outputs": [],
   "source": [
    "res_eval[\"Full\"] = {\n",
    "    \"All acc avg\": res_full_mean_std, \n",
    "    \"All acc max\": res_full_max, \n",
    "    \"Pos acc avg\": res_full_add_pos_mean_std,\n",
    "    \"Pos acc max\": res_full_add_pos_max\n",
    "}"
   ]
  },
  {
   "cell_type": "code",
   "execution_count": 42,
   "metadata": {},
   "outputs": [],
   "source": [
    "res_stat[\"Full\"] = {\n",
    "    \"All codes\": len(set(df_test_gs_full.code)), \"All ment\": df_test_gs_full.shape[0], \n",
    "    \"Pos codes\": len(set(df_test_gs_full_add_pos.code)), \"Pos ment\": df_test_gs_full_add_pos.shape[0]\n",
    "}"
   ]
  },
  {
   "cell_type": "markdown",
   "metadata": {},
   "source": [
    "## Filtering\n",
    "\n",
    "Considering mentions that are only present in the test set."
   ]
  },
  {
   "cell_type": "code",
   "execution_count": 43,
   "metadata": {},
   "outputs": [],
   "source": [
    "df_codes_train_ner_all = pd.read_table(corpus_path + \"train/trainX.tsv\", sep='\\t', header=None)\n",
    "df_codes_train_ner_all.columns = [\"doc_id\", \"type\", \"code\", \"word\", \"location\"]\n",
    "df_codes_train_ner_all = df_codes_train_ner_all[df_codes_train_ner_all['type'] == TYPE_ANN]"
   ]
  },
  {
   "cell_type": "code",
   "execution_count": 44,
   "metadata": {},
   "outputs": [
    {
     "data": {
      "text/plain": [
       "(1972, 5)"
      ]
     },
     "execution_count": 44,
     "metadata": {},
     "output_type": "execute_result"
    }
   ],
   "source": [
    "df_codes_train_ner_all.shape"
   ]
  },
  {
   "cell_type": "code",
   "execution_count": 45,
   "metadata": {},
   "outputs": [],
   "source": [
    "train_mentions = sorted(set([x.lower() for x in set(\n",
    "    df_codes_train_ner_all[\"word\"].values\n",
    ")]))"
   ]
  },
  {
   "cell_type": "code",
   "execution_count": 46,
   "metadata": {},
   "outputs": [
    {
     "data": {
      "text/plain": [
       "1096"
      ]
     },
     "execution_count": 46,
     "metadata": {},
     "output_type": "execute_result"
    }
   ],
   "source": [
    "len(train_mentions)"
   ]
  },
  {
   "cell_type": "code",
   "execution_count": 47,
   "metadata": {},
   "outputs": [],
   "source": [
    "df_test_gs_filt = df_test_gs[df_test_gs.ref.apply(\n",
    "    lambda x: x.lower() not in train_mentions\n",
    ")].sort_values(by=[\"clinical_case\", \"start_pos_gs\", \"end_pos_gs\"])"
   ]
  },
  {
   "cell_type": "code",
   "execution_count": 48,
   "metadata": {},
   "outputs": [
    {
     "data": {
      "text/plain": [
       "(586, 7)"
      ]
     },
     "execution_count": 48,
     "metadata": {},
     "output_type": "execute_result"
    }
   ],
   "source": [
    "df_test_gs_filt.shape"
   ]
  },
  {
   "cell_type": "code",
   "execution_count": 49,
   "metadata": {},
   "outputs": [],
   "source": [
    "arr_res_eval = []\n",
    "for i in range(1, 6):\n",
    "    df_pred_filt = pd.read_csv(RES_DIR + \"df_test_filt_preds_\" + TYPE_TASK + \"_hier_task_cls_train_mbert_galen_\" + str(i) + \".csv\", \n",
    "                    index_col=0, header=0, sep='\\t').sort_values(by=[\"clinical_case\", \"pos_pred\"])\n",
    "    code_pred_filt = [df_pred_filt[\"code\"].loc[i] if i in df_pred_filt.index else \"-\" for i in df_test_gs_filt.index] \n",
    "    assert len(code_pred_filt) == df_test_gs_filt.shape[0]\n",
    "    arr_res_eval.append(\n",
    "        (\n",
    "            pd.Series(df_test_gs_filt[\"code\"].values) == pd.Series(code_pred_filt)\n",
    "        ).value_counts(normalize=True)[True]\n",
    "    )\n",
    "dist_res_eval = pd.Series(arr_res_eval).describe()\n",
    "res_filt_mean_std = \".\" + str(round(dist_res_eval['mean'], round_n)).split('.')[-1] + \" ± \" + \\\n",
    "                    \".\" + str(round(dist_res_eval['std'], round_n)).split('.')[-1]\n",
    "res_filt_max = \".\" + str(round(dist_res_eval['max'], round_n)).split('.')[-1]"
   ]
  },
  {
   "cell_type": "markdown",
   "metadata": {},
   "source": [
    "### Additional analysis\n",
    "\n",
    "We only select the test samples annotated with code-pre and code-suf already seen in train-dev (otherwise the sample would be impossible to be correctly annotated):"
   ]
  },
  {
   "cell_type": "code",
   "execution_count": 50,
   "metadata": {},
   "outputs": [],
   "source": [
    "df_test_gs_filt_add = df_test_gs_filt.copy()"
   ]
  },
  {
   "cell_type": "code",
   "execution_count": 51,
   "metadata": {},
   "outputs": [],
   "source": [
    "if TYPE_TASK == 'd':\n",
    "    df_test_gs_filt_add[\"code_pre\"] = df_test_gs_filt_add.code.apply(\n",
    "        lambda x: x.split('.')[0] in train_dev_codes_pre\n",
    "    )\n",
    "    df_test_gs_filt_add[\"code_suf\"] = df_test_gs_filt_add.code.apply(\n",
    "        lambda x: (None if not '.' in x else x.split('.')[1]) in train_dev_codes_suf\n",
    "    )\n",
    "else:\n",
    "    df_test_gs_filt_add[\"code_pre\"] = df_test_gs_filt_add.code.apply(\n",
    "        lambda x: x[:4] in train_dev_codes_pre\n",
    "    )\n",
    "    df_test_gs_filt_add[\"code_suf\"] = df_test_gs_filt_add.code.apply(\n",
    "        lambda x: (None if len(x) < 7 else x[4:7]) in train_dev_codes_suf\n",
    "    )"
   ]
  },
  {
   "cell_type": "code",
   "execution_count": 52,
   "metadata": {},
   "outputs": [],
   "source": [
    "bool_filt_samples = df_test_gs_filt_add.apply(\n",
    "    lambda x: x[\"code_pre\"] == x[\"code_suf\"] == True, \n",
    "    axis=1\n",
    ").values"
   ]
  },
  {
   "cell_type": "code",
   "execution_count": 53,
   "metadata": {},
   "outputs": [],
   "source": [
    "df_test_gs_filt_add = df_test_gs_filt[bool_filt_samples]"
   ]
  },
  {
   "cell_type": "code",
   "execution_count": 54,
   "metadata": {},
   "outputs": [
    {
     "data": {
      "text/plain": [
       "(124, 7)"
      ]
     },
     "execution_count": 54,
     "metadata": {},
     "output_type": "execute_result"
    }
   ],
   "source": [
    "df_test_gs_filt_add.shape"
   ]
  },
  {
   "cell_type": "markdown",
   "metadata": {},
   "source": [
    "Finally, se only select the test samples considered by the model at the time of prediction, i.e. test annotations for which a CLS sample can be produced: "
   ]
  },
  {
   "cell_type": "code",
   "execution_count": 55,
   "metadata": {},
   "outputs": [],
   "source": [
    "ind_pred_filt_add = sorted(set(df_test_gs_filt_add.index.values).intersection(set(df_pred_filt.index)))"
   ]
  },
  {
   "cell_type": "code",
   "execution_count": 56,
   "metadata": {},
   "outputs": [],
   "source": [
    "df_test_gs_filt_add_pos = df_test_gs_filt_add.loc[ind_pred_filt_add]"
   ]
  },
  {
   "cell_type": "code",
   "execution_count": 57,
   "metadata": {},
   "outputs": [
    {
     "data": {
      "text/plain": [
       "(109, 7)"
      ]
     },
     "execution_count": 57,
     "metadata": {},
     "output_type": "execute_result"
    }
   ],
   "source": [
    "df_test_gs_filt_add_pos.shape"
   ]
  },
  {
   "cell_type": "code",
   "execution_count": 58,
   "metadata": {},
   "outputs": [],
   "source": [
    "arr_res_eval = []\n",
    "for i in range(1, 6):\n",
    "    df_pred_filt = pd.read_csv(RES_DIR + \"df_test_filt_preds_\" + TYPE_TASK + \"_hier_task_cls_train_mbert_galen_\" + str(i) + \".csv\", \n",
    "                    index_col=0, header=0, sep='\\t').sort_values(by=[\"clinical_case\", \"pos_pred\"])\n",
    "    code_pred_filt_add_pos = [df_pred_filt[\"code\"].loc[i] if i in df_pred_filt.index else \"-\" for i in df_test_gs_filt_add_pos.index] \n",
    "    assert len(code_pred_filt_add_pos) == df_test_gs_filt_add_pos.shape[0]\n",
    "    arr_res_eval.append(\n",
    "        (\n",
    "            pd.Series(df_test_gs_filt_add_pos[\"code\"].values) == pd.Series(code_pred_filt_add_pos)\n",
    "        ).value_counts(normalize=True)[True]\n",
    "    )\n",
    "dist_res_eval = pd.Series(arr_res_eval).describe()\n",
    "res_filt_add_pos_mean_std = \".\" + str(round(dist_res_eval['mean'], round_n)).split('.')[-1] + \" ± \" + \\\n",
    "                    \".\" + str(round(dist_res_eval['std'], round_n)).split('.')[-1]\n",
    "res_filt_add_pos_max = \".\" + str(round(dist_res_eval['max'], round_n)).split('.')[-1]"
   ]
  },
  {
   "cell_type": "code",
   "execution_count": 59,
   "metadata": {},
   "outputs": [],
   "source": [
    "res_eval[\"Filtering\"] = {\n",
    "    \"All acc avg\": res_filt_mean_std, \n",
    "    \"All acc max\": res_filt_max, \n",
    "    \"Pos acc avg\": res_filt_add_pos_mean_std,\n",
    "    \"Pos acc max\": res_filt_add_pos_max\n",
    "}"
   ]
  },
  {
   "cell_type": "code",
   "execution_count": 60,
   "metadata": {},
   "outputs": [],
   "source": [
    "res_stat[\"Filtering\"] = {\n",
    "    \"All codes\": len(set(df_test_gs_filt.code)), \"All ment\": df_test_gs_filt.shape[0], \n",
    "    \"Pos codes\": len(set(df_test_gs_filt_add_pos.code)), \"Pos ment\": df_test_gs_filt_add_pos.shape[0]\n",
    "}"
   ]
  },
  {
   "cell_type": "code",
   "execution_count": 61,
   "metadata": {},
   "outputs": [
    {
     "data": {
      "text/html": [
       "<div>\n",
       "<style scoped>\n",
       "    .dataframe tbody tr th:only-of-type {\n",
       "        vertical-align: middle;\n",
       "    }\n",
       "\n",
       "    .dataframe tbody tr th {\n",
       "        vertical-align: top;\n",
       "    }\n",
       "\n",
       "    .dataframe thead th {\n",
       "        text-align: right;\n",
       "    }\n",
       "</style>\n",
       "<table border=\"1\" class=\"dataframe\">\n",
       "  <thead>\n",
       "    <tr style=\"text-align: right;\">\n",
       "      <th></th>\n",
       "      <th>All acc avg</th>\n",
       "      <th>All acc max</th>\n",
       "      <th>Pos acc avg</th>\n",
       "      <th>Pos acc max</th>\n",
       "    </tr>\n",
       "  </thead>\n",
       "  <tbody>\n",
       "    <tr>\n",
       "      <th>Full</th>\n",
       "      <td>.546 ± .006</td>\n",
       "      <td>.556</td>\n",
       "      <td>.798 ± .009</td>\n",
       "      <td>.809</td>\n",
       "    </tr>\n",
       "    <tr>\n",
       "      <th>Filtering</th>\n",
       "      <td>.278 ± .008</td>\n",
       "      <td>.288</td>\n",
       "      <td>.552 ± .02</td>\n",
       "      <td>.578</td>\n",
       "    </tr>\n",
       "  </tbody>\n",
       "</table>\n",
       "</div>"
      ],
      "text/plain": [
       "           All acc avg All acc max  Pos acc avg Pos acc max\n",
       "Full       .546 ± .006        .556  .798 ± .009        .809\n",
       "Filtering  .278 ± .008        .288   .552 ± .02        .578"
      ]
     },
     "execution_count": 61,
     "metadata": {},
     "output_type": "execute_result"
    }
   ],
   "source": [
    "pd.DataFrame(res_eval).transpose()"
   ]
  },
  {
   "cell_type": "code",
   "execution_count": 62,
   "metadata": {},
   "outputs": [
    {
     "data": {
      "text/html": [
       "<div>\n",
       "<style scoped>\n",
       "    .dataframe tbody tr th:only-of-type {\n",
       "        vertical-align: middle;\n",
       "    }\n",
       "\n",
       "    .dataframe tbody tr th {\n",
       "        vertical-align: top;\n",
       "    }\n",
       "\n",
       "    .dataframe thead th {\n",
       "        text-align: right;\n",
       "    }\n",
       "</style>\n",
       "<table border=\"1\" class=\"dataframe\">\n",
       "  <thead>\n",
       "    <tr style=\"text-align: right;\">\n",
       "      <th></th>\n",
       "      <th>All codes</th>\n",
       "      <th>All ment</th>\n",
       "      <th>Pos codes</th>\n",
       "      <th>Pos ment</th>\n",
       "    </tr>\n",
       "  </thead>\n",
       "  <tbody>\n",
       "    <tr>\n",
       "      <th>Full</th>\n",
       "      <td>371</td>\n",
       "      <td>1112</td>\n",
       "      <td>81</td>\n",
       "      <td>413</td>\n",
       "    </tr>\n",
       "    <tr>\n",
       "      <th>Filtering</th>\n",
       "      <td>325</td>\n",
       "      <td>586</td>\n",
       "      <td>57</td>\n",
       "      <td>109</td>\n",
       "    </tr>\n",
       "  </tbody>\n",
       "</table>\n",
       "</div>"
      ],
      "text/plain": [
       "           All codes  All ment  Pos codes  Pos ment\n",
       "Full             371      1112         81       413\n",
       "Filtering        325       586         57       109"
      ]
     },
     "execution_count": 62,
     "metadata": {},
     "output_type": "execute_result"
    }
   ],
   "source": [
    "pd.DataFrame(res_stat).transpose()"
   ]
  }
 ],
 "metadata": {
  "kernelspec": {
   "display_name": "Python 3 (ipykernel)",
   "language": "python",
   "name": "python3"
  },
  "language_info": {
   "codemirror_mode": {
    "name": "ipython",
    "version": 3
   },
   "file_extension": ".py",
   "mimetype": "text/x-python",
   "name": "python",
   "nbconvert_exporter": "python",
   "pygments_lexer": "ipython3",
   "version": "3.8.10"
  }
 },
 "nbformat": 4,
 "nbformat_minor": 4
}
