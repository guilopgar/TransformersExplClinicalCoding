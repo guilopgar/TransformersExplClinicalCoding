{
 "cells": [
  {
   "cell_type": "code",
   "execution_count": 1,
   "metadata": {},
   "outputs": [],
   "source": [
    "utils_path = \"../utils/\"\n",
    "corpus_path = \"../datasets/cantemist_v6/\"\n",
    "sub_task_path = \"cantemist-norm/\"\n",
    "test_gs_path = corpus_path + \"test-set/\" + sub_task_path"
   ]
  },
  {
   "cell_type": "code",
   "execution_count": 2,
   "metadata": {},
   "outputs": [
    {
     "name": "stderr",
     "output_type": "stream",
     "text": [
      "2023-01-11 09:50:15.551329: I tensorflow/stream_executor/platform/default/dso_loader.cc:53] Successfully opened dynamic library libcudart.so.11.0\n"
     ]
    }
   ],
   "source": [
    "import tensorflow as tf\n",
    "\n",
    "# Auxiliary components\n",
    "import sys\n",
    "sys.path.insert(0, utils_path)\n",
    "from nlp_utils import *\n",
    "\n",
    "RES_DIR = \"../results/Cantemist/final_exec/\"\n",
    "subtask = \"norm\"\n",
    "\n",
    "round_n = 3\n",
    "\n",
    "# GS data\n",
    "df_test_gs = format_ner_gs(test_gs_path, subtask=subtask)"
   ]
  },
  {
   "cell_type": "markdown",
   "metadata": {},
   "source": [
    "# Load data"
   ]
  },
  {
   "cell_type": "code",
   "execution_count": 3,
   "metadata": {},
   "outputs": [],
   "source": [
    "train_path = corpus_path + \"train-set/\" + sub_task_path\n",
    "train_files = [f for f in os.listdir(train_path) if os.path.isfile(train_path + f) and f.split('.')[-1] == \"txt\"]\n",
    "n_train_files = len(train_files)\n",
    "train_data = load_text_files(train_files, train_path)\n",
    "dev1_path = corpus_path + \"dev-set1/\" + sub_task_path\n",
    "train_files.extend([f for f in os.listdir(dev1_path) if os.path.isfile(dev1_path + f) and f.split('.')[-1] == \"txt\"])\n",
    "train_data.extend(load_text_files(train_files[n_train_files:], dev1_path))\n",
    "df_text_train = pd.DataFrame({'doc_id': [s.split('.txt')[0] for s in train_files], 'raw_text': train_data})"
   ]
  },
  {
   "cell_type": "code",
   "execution_count": 4,
   "metadata": {},
   "outputs": [],
   "source": [
    "dev_path = corpus_path + \"dev-set2/\" + sub_task_path\n",
    "dev_files = [f for f in os.listdir(dev_path) if os.path.isfile(dev_path + f) and f.split('.')[-1] == \"txt\"]\n",
    "dev_data = load_text_files(dev_files, dev_path)\n",
    "df_text_dev = pd.DataFrame({'doc_id': [s.split('.txt')[0] for s in dev_files], 'raw_text': dev_data})"
   ]
  },
  {
   "cell_type": "code",
   "execution_count": 5,
   "metadata": {},
   "outputs": [],
   "source": [
    "test_path = corpus_path + \"test-set/\" + sub_task_path\n",
    "test_files = [f for f in os.listdir(test_path) if os.path.isfile(test_path + f) and f.split('.')[-1] == 'txt']\n",
    "test_data = load_text_files(test_files, test_path)\n",
    "df_text_test = pd.DataFrame({'doc_id': [s.split('.txt')[0] for s in test_files], 'raw_text': test_data})"
   ]
  },
  {
   "cell_type": "code",
   "execution_count": 6,
   "metadata": {},
   "outputs": [],
   "source": [
    "train_ann_files = [train_path + f for f in os.listdir(train_path) if f.split('.')[-1] == \"ann\"]\n",
    "train_ann_files.extend([dev1_path + f for f in os.listdir(dev1_path) if f.split('.')[-1] == \"ann\"])"
   ]
  },
  {
   "cell_type": "code",
   "execution_count": 7,
   "metadata": {},
   "outputs": [],
   "source": [
    "df_codes_train_ner = process_brat_norm(train_ann_files).sort_values([\"doc_id\", \"start\", \"end\"])"
   ]
  },
  {
   "cell_type": "code",
   "execution_count": 8,
   "metadata": {},
   "outputs": [],
   "source": [
    "df_codes_train_ner[\"code_pre\"] = df_codes_train_ner[\"code\"].apply(lambda x: x.split('/')[0])\n",
    "df_codes_train_ner[\"code_suf\"] = df_codes_train_ner[\"code\"].apply(lambda x: '/'.join(x.split('/')[1:]))"
   ]
  },
  {
   "cell_type": "code",
   "execution_count": 9,
   "metadata": {},
   "outputs": [],
   "source": [
    "assert ~df_codes_train_ner[[\"doc_id\", \"start\", \"end\"]].duplicated().any()"
   ]
  },
  {
   "cell_type": "code",
   "execution_count": 10,
   "metadata": {},
   "outputs": [],
   "source": [
    "df_codes_train_ner_final = df_codes_train_ner.copy()"
   ]
  },
  {
   "cell_type": "code",
   "execution_count": 11,
   "metadata": {},
   "outputs": [
    {
     "name": "stdout",
     "output_type": "stream",
     "text": [
      "9737\n"
     ]
    }
   ],
   "source": [
    "print(df_codes_train_ner_final.shape[0])"
   ]
  },
  {
   "cell_type": "code",
   "execution_count": 12,
   "metadata": {},
   "outputs": [],
   "source": [
    "dev_ann_files = [dev_path + f for f in os.listdir(dev_path) if f.split('.')[-1] == \"ann\"]"
   ]
  },
  {
   "cell_type": "code",
   "execution_count": 13,
   "metadata": {},
   "outputs": [],
   "source": [
    "df_codes_dev_ner = process_brat_norm(dev_ann_files).sort_values([\"doc_id\", \"start\", \"end\"])"
   ]
  },
  {
   "cell_type": "code",
   "execution_count": 14,
   "metadata": {},
   "outputs": [],
   "source": [
    "df_codes_dev_ner[\"code_pre\"] = df_codes_dev_ner[\"code\"].apply(lambda x: x.split('/')[0])\n",
    "df_codes_dev_ner[\"code_suf\"] = df_codes_dev_ner[\"code\"].apply(lambda x: '/'.join(x.split('/')[1:]))"
   ]
  },
  {
   "cell_type": "code",
   "execution_count": 15,
   "metadata": {},
   "outputs": [],
   "source": [
    "assert ~df_codes_dev_ner[[\"doc_id\", \"start\", \"end\"]].duplicated().any()"
   ]
  },
  {
   "cell_type": "code",
   "execution_count": 16,
   "metadata": {},
   "outputs": [],
   "source": [
    "df_codes_dev_ner_final = df_codes_dev_ner.copy()"
   ]
  },
  {
   "cell_type": "code",
   "execution_count": 17,
   "metadata": {},
   "outputs": [
    {
     "name": "stdout",
     "output_type": "stream",
     "text": [
      "2660\n"
     ]
    }
   ],
   "source": [
    "print(df_codes_dev_ner_final.shape[0])"
   ]
  },
  {
   "cell_type": "code",
   "execution_count": 18,
   "metadata": {},
   "outputs": [],
   "source": [
    "train_dev_codes_pre = sorted(set(df_codes_dev_ner_final[\"code_pre\"].values).union(set(\n",
    "    df_codes_train_ner_final[\"code_pre\"].values\n",
    ")))"
   ]
  },
  {
   "cell_type": "code",
   "execution_count": 19,
   "metadata": {},
   "outputs": [
    {
     "data": {
      "text/plain": [
       "307"
      ]
     },
     "execution_count": 19,
     "metadata": {},
     "output_type": "execute_result"
    }
   ],
   "source": [
    "len(train_dev_codes_pre)"
   ]
  },
  {
   "cell_type": "code",
   "execution_count": 20,
   "metadata": {},
   "outputs": [],
   "source": [
    "train_dev_codes_suf = sorted(set(df_codes_dev_ner_final[\"code_suf\"].values).union(set(df_codes_train_ner_final[\"code_suf\"].values))) "
   ]
  },
  {
   "cell_type": "code",
   "execution_count": 21,
   "metadata": {},
   "outputs": [
    {
     "name": "stdout",
     "output_type": "stream",
     "text": [
      "35\n"
     ]
    }
   ],
   "source": [
    "print(len(train_dev_codes_suf))"
   ]
  },
  {
   "cell_type": "markdown",
   "metadata": {},
   "source": [
    "# Evaluation"
   ]
  },
  {
   "cell_type": "code",
   "execution_count": 22,
   "metadata": {},
   "outputs": [],
   "source": [
    "train_dev_codes = sorted(set(df_codes_dev_ner_final[\"code\"].values).union(set(\n",
    "    df_codes_train_ner_final[\"code\"].values\n",
    ")))"
   ]
  },
  {
   "cell_type": "code",
   "execution_count": 23,
   "metadata": {},
   "outputs": [
    {
     "data": {
      "text/plain": [
       "743"
      ]
     },
     "execution_count": 23,
     "metadata": {},
     "output_type": "execute_result"
    }
   ],
   "source": [
    "len(train_dev_codes)"
   ]
  },
  {
   "cell_type": "code",
   "execution_count": 24,
   "metadata": {},
   "outputs": [],
   "source": [
    "test_codes = sorted(set(df_test_gs[\"code_gs\"]))"
   ]
  },
  {
   "cell_type": "code",
   "execution_count": 25,
   "metadata": {},
   "outputs": [
    {
     "data": {
      "text/plain": [
       "386"
      ]
     },
     "execution_count": 25,
     "metadata": {},
     "output_type": "execute_result"
    }
   ],
   "source": [
    "len(test_codes)"
   ]
  },
  {
   "cell_type": "code",
   "execution_count": 28,
   "metadata": {},
   "outputs": [],
   "source": [
    "res_stat = {}\n",
    "res_eval = {}"
   ]
  },
  {
   "cell_type": "markdown",
   "metadata": {},
   "source": [
    "## Zero-shot\n",
    "\n",
    "Considering codes that are only present in the test set."
   ]
  },
  {
   "cell_type": "code",
   "execution_count": 29,
   "metadata": {},
   "outputs": [],
   "source": [
    "zero_test_codes = set(test_codes) - set(train_dev_codes)"
   ]
  },
  {
   "cell_type": "code",
   "execution_count": 30,
   "metadata": {},
   "outputs": [
    {
     "data": {
      "text/plain": [
       "107"
      ]
     },
     "execution_count": 30,
     "metadata": {},
     "output_type": "execute_result"
    }
   ],
   "source": [
    "len(zero_test_codes)"
   ]
  },
  {
   "cell_type": "code",
   "execution_count": 31,
   "metadata": {},
   "outputs": [],
   "source": [
    "df_test_gs_zero = df_test_gs[df_test_gs.code_gs.apply(\n",
    "    lambda x: x in zero_test_codes\n",
    ")].sort_values(by=[\"clinical_case\", \"start_pos_gs\", \"end_pos_gs\"])"
   ]
  },
  {
   "cell_type": "code",
   "execution_count": 32,
   "metadata": {},
   "outputs": [
    {
     "data": {
      "text/plain": [
       "(148, 8)"
      ]
     },
     "execution_count": 32,
     "metadata": {},
     "output_type": "execute_result"
    }
   ],
   "source": [
    "df_test_gs_zero.shape"
   ]
  },
  {
   "cell_type": "code",
   "execution_count": 33,
   "metadata": {},
   "outputs": [],
   "source": [
    "arr_res_eval = []\n",
    "for i in range(1, 6):\n",
    "    df_pred_zero = pd.read_csv(RES_DIR + \"df_test_zero_preds_c_hier_task_cls_mbert_galen_\" + str(i) + \".csv\", \n",
    "                    index_col=0, header=0, sep='\\t').sort_values(by=[\"clinical_case\", \"start\", \"end\"])\n",
    "    assert df_pred_zero.shape[0] == df_test_gs_zero.shape[0]\n",
    "    arr_res_eval.append(\n",
    "        (\n",
    "            pd.Series(df_test_gs_zero[\"code_gs\"].values) == pd.Series(df_pred_zero[\"code_pred\"].values)\n",
    "        ).value_counts(normalize=True)[True]\n",
    "    )\n",
    "dist_res_eval = pd.Series(arr_res_eval).describe()\n",
    "res_zero_mean_std = \".\" + str(round(dist_res_eval['mean'], round_n)).split('.')[-1] + \" ± \" + \\\n",
    "                    \".\" + str(round(dist_res_eval['std'], round_n)).split('.')[-1]\n",
    "res_zero_max = \".\" + str(round(dist_res_eval['max'], round_n)).split('.')[-1]"
   ]
  },
  {
   "cell_type": "markdown",
   "metadata": {},
   "source": [
    "### Additional analysis\n",
    "\n",
    "We only select the test samples annotated with code-pre and code-suf already seen in train-dev (otherwise the sample would be impossible to be correctly annotated):"
   ]
  },
  {
   "cell_type": "code",
   "execution_count": 34,
   "metadata": {},
   "outputs": [],
   "source": [
    "df_test_gs_zero_add = df_test_gs_zero.copy()"
   ]
  },
  {
   "cell_type": "code",
   "execution_count": 35,
   "metadata": {},
   "outputs": [],
   "source": [
    "df_test_gs_zero_add[\"code_pre\"] = df_test_gs_zero_add.code_gs.apply(\n",
    "    lambda x: x.split('/')[0] in train_dev_codes_pre\n",
    ")\n",
    "df_test_gs_zero_add[\"code_suf\"] = df_test_gs_zero_add.code_gs.apply(\n",
    "    lambda x: '/'.join(x.split('/')[1:]) in train_dev_codes_suf\n",
    ")"
   ]
  },
  {
   "cell_type": "code",
   "execution_count": 36,
   "metadata": {},
   "outputs": [],
   "source": [
    "bool_filt_samples = df_test_gs_zero_add.apply(\n",
    "    lambda x: x[\"code_pre\"] == x[\"code_suf\"] == True, \n",
    "    axis=1\n",
    ").values"
   ]
  },
  {
   "cell_type": "code",
   "execution_count": 37,
   "metadata": {},
   "outputs": [],
   "source": [
    "df_test_gs_zero_add = df_test_gs_zero[bool_filt_samples]"
   ]
  },
  {
   "cell_type": "code",
   "execution_count": 38,
   "metadata": {},
   "outputs": [
    {
     "data": {
      "text/plain": [
       "(83, 8)"
      ]
     },
     "execution_count": 38,
     "metadata": {},
     "output_type": "execute_result"
    }
   ],
   "source": [
    "df_test_gs_zero_add.shape"
   ]
  },
  {
   "cell_type": "code",
   "execution_count": 39,
   "metadata": {},
   "outputs": [],
   "source": [
    "arr_res_eval = []\n",
    "for i in range(1, 6):\n",
    "    df_pred_zero = pd.read_csv(RES_DIR + \"df_test_zero_preds_c_hier_task_cls_mbert_galen_\" + str(i) + \".csv\", \n",
    "                    index_col=0, header=0, sep='\\t').sort_values(by=[\"clinical_case\", \"start\", \"end\"])\n",
    "    df_pred_zero_add = df_pred_zero[bool_filt_samples]\n",
    "    assert df_pred_zero_add.shape[0] == df_test_gs_zero_add.shape[0]\n",
    "    arr_res_eval.append(\n",
    "        (\n",
    "            pd.Series(df_test_gs_zero_add[\"code_gs\"].values) == pd.Series(df_pred_zero_add[\"code_pred\"].values)\n",
    "        ).value_counts(normalize=True)[True]\n",
    "    )\n",
    "dist_res_eval = pd.Series(arr_res_eval).describe()\n",
    "res_zero_add_mean_std = \".\" + str(round(dist_res_eval['mean'], round_n)).split('.')[-1] + \" ± \" + \\\n",
    "                    \".\" + str(round(dist_res_eval['std'], round_n)).split('.')[-1]\n",
    "res_zero_add_max = \".\" + str(round(dist_res_eval['max'], round_n)).split('.')[-1]"
   ]
  },
  {
   "cell_type": "code",
   "execution_count": 40,
   "metadata": {},
   "outputs": [],
   "source": [
    "res_eval[\"Zero-shot\"] = {\n",
    "    \"All acc avg\": res_zero_mean_std, \n",
    "    \"All acc max\": res_zero_max, \n",
    "    \"Pos acc avg\": res_zero_add_mean_std,\n",
    "    \"Pos acc max\": res_zero_add_max\n",
    "}"
   ]
  },
  {
   "cell_type": "code",
   "execution_count": 41,
   "metadata": {},
   "outputs": [],
   "source": [
    "res_stat[\"Zero-shot\"] = {\n",
    "    \"All codes\": len(set(df_test_gs_zero.code_gs)), \"All ment\": df_test_gs_zero.shape[0], \n",
    "    \"Pos codes\": len(set(df_test_gs_zero_add.code_gs)), \"Pos ment\": df_test_gs_zero_add.shape[0]\n",
    "}"
   ]
  },
  {
   "cell_type": "markdown",
   "metadata": {},
   "source": [
    "## Few-shots\n",
    "\n",
    "Considering codes with absolute freq <= 5 in the train-dev set."
   ]
  },
  {
   "cell_type": "code",
   "execution_count": 42,
   "metadata": {},
   "outputs": [],
   "source": [
    "dist_train_dev_codes = pd.concat((\n",
    "    df_codes_train_ner_final.code, \n",
    "    df_codes_dev_ner_final.code\n",
    ")).value_counts()"
   ]
  },
  {
   "cell_type": "code",
   "execution_count": 43,
   "metadata": {},
   "outputs": [],
   "source": [
    "few_train_dev_codes = sorted(set(\n",
    "    dist_train_dev_codes[dist_train_dev_codes <= 5].index.values\n",
    "))"
   ]
  },
  {
   "cell_type": "code",
   "execution_count": 44,
   "metadata": {},
   "outputs": [],
   "source": [
    "few_codes = set(few_train_dev_codes).union(set(zero_test_codes))"
   ]
  },
  {
   "cell_type": "code",
   "execution_count": 45,
   "metadata": {},
   "outputs": [
    {
     "data": {
      "text/plain": [
       "692"
      ]
     },
     "execution_count": 45,
     "metadata": {},
     "output_type": "execute_result"
    }
   ],
   "source": [
    "len(few_codes)"
   ]
  },
  {
   "cell_type": "code",
   "execution_count": 46,
   "metadata": {},
   "outputs": [],
   "source": [
    "df_test_gs_few = df_test_gs[df_test_gs.code_gs.apply(\n",
    "    lambda x: x in few_codes\n",
    ")].sort_values(by=[\"clinical_case\", \"start_pos_gs\", \"end_pos_gs\"])"
   ]
  },
  {
   "cell_type": "code",
   "execution_count": 47,
   "metadata": {},
   "outputs": [
    {
     "data": {
      "text/plain": [
       "(445, 8)"
      ]
     },
     "execution_count": 47,
     "metadata": {},
     "output_type": "execute_result"
    }
   ],
   "source": [
    "df_test_gs_few.shape"
   ]
  },
  {
   "cell_type": "code",
   "execution_count": 48,
   "metadata": {},
   "outputs": [],
   "source": [
    "arr_res_eval = []\n",
    "for i in range(1, 6):\n",
    "    df_pred_few = pd.read_csv(RES_DIR + \"df_test_few_preds_c_hier_task_cls_mbert_galen_\" + str(i) + \".csv\", \n",
    "                    index_col=0, header=0, sep='\\t').sort_values(by=[\"clinical_case\", \"start\", \"end\"])\n",
    "    assert df_pred_few.shape[0] == df_test_gs_few.shape[0]\n",
    "    arr_res_eval.append(\n",
    "        (\n",
    "            pd.Series(df_test_gs_few[\"code_gs\"].values) == pd.Series(df_pred_few[\"code_pred\"].values)\n",
    "        ).value_counts(normalize=True)[True]\n",
    "    )\n",
    "dist_res_eval = pd.Series(arr_res_eval).describe()\n",
    "res_few_mean_std = \".\" + str(round(dist_res_eval['mean'], round_n)).split('.')[-1] + \" ± \" + \\\n",
    "                    \".\" + str(round(dist_res_eval['std'], round_n)).split('.')[-1]\n",
    "res_few_max = \".\" + str(round(dist_res_eval['max'], round_n)).split('.')[-1]"
   ]
  },
  {
   "cell_type": "markdown",
   "metadata": {},
   "source": [
    "### Additional analysis\n",
    "\n",
    "We only select the test samples annotated with code-pre and code-suf already seen in train-dev (otherwise the sample would be impossible to be correctly annotated):"
   ]
  },
  {
   "cell_type": "code",
   "execution_count": 49,
   "metadata": {},
   "outputs": [],
   "source": [
    "df_test_gs_few_add = df_test_gs_few.copy()"
   ]
  },
  {
   "cell_type": "code",
   "execution_count": 50,
   "metadata": {},
   "outputs": [],
   "source": [
    "df_test_gs_few_add[\"code_pre\"] = df_test_gs_few_add.code_gs.apply(\n",
    "    lambda x: x.split('/')[0] in train_dev_codes_pre\n",
    ")\n",
    "df_test_gs_few_add[\"code_suf\"] = df_test_gs_few_add.code_gs.apply(\n",
    "    lambda x: '/'.join(x.split('/')[1:]) in train_dev_codes_suf\n",
    ")"
   ]
  },
  {
   "cell_type": "code",
   "execution_count": 51,
   "metadata": {},
   "outputs": [],
   "source": [
    "bool_filt_samples = df_test_gs_few_add.apply(\n",
    "    lambda x: x[\"code_pre\"] == x[\"code_suf\"] == True, \n",
    "    axis=1\n",
    ").values"
   ]
  },
  {
   "cell_type": "code",
   "execution_count": 52,
   "metadata": {},
   "outputs": [],
   "source": [
    "df_test_gs_few_add = df_test_gs_few[bool_filt_samples]"
   ]
  },
  {
   "cell_type": "code",
   "execution_count": 53,
   "metadata": {},
   "outputs": [
    {
     "data": {
      "text/plain": [
       "(380, 8)"
      ]
     },
     "execution_count": 53,
     "metadata": {},
     "output_type": "execute_result"
    }
   ],
   "source": [
    "df_test_gs_few_add.shape"
   ]
  },
  {
   "cell_type": "code",
   "execution_count": 54,
   "metadata": {},
   "outputs": [],
   "source": [
    "arr_res_eval = []\n",
    "for i in range(1, 6):\n",
    "    df_pred_few = pd.read_csv(RES_DIR + \"df_test_few_preds_c_hier_task_cls_mbert_galen_\" + str(i) + \".csv\", \n",
    "                    index_col=0, header=0, sep='\\t').sort_values(by=[\"clinical_case\", \"start\", \"end\"])\n",
    "    df_pred_few_add = df_pred_few[bool_filt_samples]\n",
    "    assert df_pred_few_add.shape[0] == df_test_gs_few_add.shape[0]\n",
    "    arr_res_eval.append(\n",
    "        (\n",
    "            pd.Series(df_test_gs_few_add[\"code_gs\"].values) == pd.Series(df_pred_few_add[\"code_pred\"].values)\n",
    "        ).value_counts(normalize=True)[True]\n",
    "    )\n",
    "dist_res_eval = pd.Series(arr_res_eval).describe()\n",
    "res_few_add_mean_std = \".\" + str(round(dist_res_eval['mean'], round_n)).split('.')[-1] + \" ± \" + \\\n",
    "                    \".\" + str(round(dist_res_eval['std'], round_n)).split('.')[-1]\n",
    "res_few_add_max = \".\" + str(round(dist_res_eval['max'], round_n)).split('.')[-1]"
   ]
  },
  {
   "cell_type": "code",
   "execution_count": 55,
   "metadata": {},
   "outputs": [],
   "source": [
    "res_eval[\"Few-shot\"] = {\n",
    "    \"All acc avg\": res_few_mean_std, \n",
    "    \"All acc max\": res_few_max, \n",
    "    \"Pos acc avg\": res_few_add_mean_std,\n",
    "    \"Pos acc max\": res_few_add_max\n",
    "}"
   ]
  },
  {
   "cell_type": "code",
   "execution_count": 56,
   "metadata": {},
   "outputs": [],
   "source": [
    "res_stat[\"Few-shot\"] = {\n",
    "    \"All codes\": len(set(df_test_gs_few.code_gs)), \"All ment\": df_test_gs_few.shape[0], \n",
    "    \"Pos codes\": len(set(df_test_gs_few_add.code_gs)), \"Pos ment\": df_test_gs_few_add.shape[0]\n",
    "}"
   ]
  },
  {
   "cell_type": "code",
   "execution_count": 57,
   "metadata": {},
   "outputs": [
    {
     "data": {
      "text/html": [
       "<div>\n",
       "<style scoped>\n",
       "    .dataframe tbody tr th:only-of-type {\n",
       "        vertical-align: middle;\n",
       "    }\n",
       "\n",
       "    .dataframe tbody tr th {\n",
       "        vertical-align: top;\n",
       "    }\n",
       "\n",
       "    .dataframe thead th {\n",
       "        text-align: right;\n",
       "    }\n",
       "</style>\n",
       "<table border=\"1\" class=\"dataframe\">\n",
       "  <thead>\n",
       "    <tr style=\"text-align: right;\">\n",
       "      <th></th>\n",
       "      <th>All codes</th>\n",
       "      <th>All ment</th>\n",
       "      <th>Pos codes</th>\n",
       "      <th>Pos ment</th>\n",
       "    </tr>\n",
       "  </thead>\n",
       "  <tbody>\n",
       "    <tr>\n",
       "      <th>Zero-shot</th>\n",
       "      <td>107</td>\n",
       "      <td>148</td>\n",
       "      <td>66</td>\n",
       "      <td>83</td>\n",
       "    </tr>\n",
       "    <tr>\n",
       "      <th>Few-shot</th>\n",
       "      <td>254</td>\n",
       "      <td>445</td>\n",
       "      <td>213</td>\n",
       "      <td>380</td>\n",
       "    </tr>\n",
       "  </tbody>\n",
       "</table>\n",
       "</div>"
      ],
      "text/plain": [
       "           All codes  All ment  Pos codes  Pos ment\n",
       "Zero-shot        107       148         66        83\n",
       "Few-shot         254       445        213       380"
      ]
     },
     "execution_count": 57,
     "metadata": {},
     "output_type": "execute_result"
    }
   ],
   "source": [
    "pd.DataFrame(res_stat).transpose()"
   ]
  },
  {
   "cell_type": "code",
   "execution_count": 58,
   "metadata": {},
   "outputs": [
    {
     "data": {
      "text/html": [
       "<div>\n",
       "<style scoped>\n",
       "    .dataframe tbody tr th:only-of-type {\n",
       "        vertical-align: middle;\n",
       "    }\n",
       "\n",
       "    .dataframe tbody tr th {\n",
       "        vertical-align: top;\n",
       "    }\n",
       "\n",
       "    .dataframe thead th {\n",
       "        text-align: right;\n",
       "    }\n",
       "</style>\n",
       "<table border=\"1\" class=\"dataframe\">\n",
       "  <thead>\n",
       "    <tr style=\"text-align: right;\">\n",
       "      <th></th>\n",
       "      <th>All acc avg</th>\n",
       "      <th>All acc max</th>\n",
       "      <th>Pos acc avg</th>\n",
       "      <th>Pos acc max</th>\n",
       "    </tr>\n",
       "  </thead>\n",
       "  <tbody>\n",
       "    <tr>\n",
       "      <th>Zero-shot</th>\n",
       "      <td>.17 ± .013</td>\n",
       "      <td>.182</td>\n",
       "      <td>.304 ± .023</td>\n",
       "      <td>.325</td>\n",
       "    </tr>\n",
       "    <tr>\n",
       "      <th>Few-shot</th>\n",
       "      <td>.544 ± .014</td>\n",
       "      <td>.562</td>\n",
       "      <td>.637 ± .016</td>\n",
       "      <td>.658</td>\n",
       "    </tr>\n",
       "  </tbody>\n",
       "</table>\n",
       "</div>"
      ],
      "text/plain": [
       "           All acc avg All acc max  Pos acc avg Pos acc max\n",
       "Zero-shot   .17 ± .013        .182  .304 ± .023        .325\n",
       "Few-shot   .544 ± .014        .562  .637 ± .016        .658"
      ]
     },
     "execution_count": 58,
     "metadata": {},
     "output_type": "execute_result"
    }
   ],
   "source": [
    "pd.DataFrame(res_eval).transpose()"
   ]
  }
 ],
 "metadata": {
  "kernelspec": {
   "display_name": "Python 3 (ipykernel)",
   "language": "python",
   "name": "python3"
  },
  "language_info": {
   "codemirror_mode": {
    "name": "ipython",
    "version": 3
   },
   "file_extension": ".py",
   "mimetype": "text/x-python",
   "name": "python",
   "nbconvert_exporter": "python",
   "pygments_lexer": "ipython3",
   "version": "3.8.10"
  }
 },
 "nbformat": 4,
 "nbformat_minor": 4
}
